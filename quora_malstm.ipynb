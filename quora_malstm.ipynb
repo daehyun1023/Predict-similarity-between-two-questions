{
  "nbformat": 4,
  "nbformat_minor": 0,
  "metadata": {
    "colab": {
      "name": "quora_malstm.ipynb",
      "provenance": [],
      "collapsed_sections": [
        "oHOm7I4VKTn-",
        "rRJBkY-_j-DQ",
        "QVQlHmYakNj8",
        "VyACj1folJLx",
        "dd8I6dzxlmVU"
      ],
      "toc_visible": true,
      "machine_shape": "hm",
      "include_colab_link": true
    },
    "kernelspec": {
      "name": "python3",
      "display_name": "Python 3"
    },
    "accelerator": "GPU"
  },
  "cells": [
    {
      "cell_type": "markdown",
      "metadata": {
        "id": "view-in-github",
        "colab_type": "text"
      },
      "source": [
        "<a href=\"https://colab.research.google.com/github/daehyun1023/Predict-similarity-between-two-questions/blob/master/quora_malstm.ipynb\" target=\"_parent\"><img src=\"https://colab.research.google.com/assets/colab-badge.svg\" alt=\"Open In Colab\"/></a>"
      ]
    },
    {
      "cell_type": "markdown",
      "metadata": {
        "id": "YlX-bd2vWm-q",
        "colab_type": "text"
      },
      "source": [
        "<table align=\"center\">\n",
        "\n",
        "---\n",
        "\n",
        "\n",
        "  <td>\n",
        "    <a target=\"_blank\" href=\"https://github.com/sdtrd011/QuoraQuestionPairs/blob/master/quora_malstm.ipynb\"><img src=\"https://www.tensorflow.org/images/colab_logo_32px.png\" />Run in Google Colab</a>\n",
        "  </td>\n",
        "</table>"
      ]
    },
    {
      "cell_type": "markdown",
      "metadata": {
        "id": "yOfI1NDynPvR",
        "colab_type": "text"
      },
      "source": [
        "# Import Modules"
      ]
    },
    {
      "cell_type": "code",
      "metadata": {
        "id": "BG2PigMH0XcP",
        "colab_type": "code",
        "outputId": "4d1e9a14-a3fb-458f-c9f6-bbed39d77223",
        "colab": {
          "base_uri": "https://localhost:8080/",
          "height": 68
        }
      },
      "source": [
        "!pip install glove_python"
      ],
      "execution_count": 0,
      "outputs": [
        {
          "output_type": "stream",
          "text": [
            "Requirement already satisfied: glove_python in /usr/local/lib/python3.6/dist-packages (0.1.0)\n",
            "Requirement already satisfied: scipy in /usr/local/lib/python3.6/dist-packages (from glove_python) (1.4.1)\n",
            "Requirement already satisfied: numpy in /usr/local/lib/python3.6/dist-packages (from glove_python) (1.18.3)\n"
          ],
          "name": "stdout"
        }
      ]
    },
    {
      "cell_type": "code",
      "metadata": {
        "id": "cHPbYrXU10L5",
        "colab_type": "code",
        "outputId": "3e84daeb-8d01-42ac-901d-bd2706d26aab",
        "colab": {
          "base_uri": "https://localhost:8080/",
          "height": 326
        }
      },
      "source": [
        "!pip install keras-rectified-adam"
      ],
      "execution_count": 0,
      "outputs": [
        {
          "output_type": "stream",
          "text": [
            "Collecting keras-rectified-adam\n",
            "  Downloading https://files.pythonhosted.org/packages/21/79/9521f66b92186702cb58a214c1b923b416266381cd824e15a1733f6a5b06/keras-rectified-adam-0.17.0.tar.gz\n",
            "Requirement already satisfied: numpy in /usr/local/lib/python3.6/dist-packages (from keras-rectified-adam) (1.18.2)\n",
            "Requirement already satisfied: Keras in /usr/local/lib/python3.6/dist-packages (from keras-rectified-adam) (2.3.1)\n",
            "Requirement already satisfied: keras-applications>=1.0.6 in /usr/local/lib/python3.6/dist-packages (from Keras->keras-rectified-adam) (1.0.8)\n",
            "Requirement already satisfied: pyyaml in /usr/local/lib/python3.6/dist-packages (from Keras->keras-rectified-adam) (3.13)\n",
            "Requirement already satisfied: h5py in /usr/local/lib/python3.6/dist-packages (from Keras->keras-rectified-adam) (2.10.0)\n",
            "Requirement already satisfied: six>=1.9.0 in /usr/local/lib/python3.6/dist-packages (from Keras->keras-rectified-adam) (1.12.0)\n",
            "Requirement already satisfied: keras-preprocessing>=1.0.5 in /usr/local/lib/python3.6/dist-packages (from Keras->keras-rectified-adam) (1.1.0)\n",
            "Requirement already satisfied: scipy>=0.14 in /usr/local/lib/python3.6/dist-packages (from Keras->keras-rectified-adam) (1.4.1)\n",
            "Building wheels for collected packages: keras-rectified-adam\n",
            "  Building wheel for keras-rectified-adam (setup.py) ... \u001b[?25l\u001b[?25hdone\n",
            "  Created wheel for keras-rectified-adam: filename=keras_rectified_adam-0.17.0-cp36-none-any.whl size=14781 sha256=37f8393fbb22584a4286383f7b8863b2100a7d6a8bf3c020c85925631b5df320\n",
            "  Stored in directory: /root/.cache/pip/wheels/7b/01/27/3a934e1a5644f5b93c720422a6ef97034ea78a21ba71cfb549\n",
            "Successfully built keras-rectified-adam\n",
            "Installing collected packages: keras-rectified-adam\n",
            "Successfully installed keras-rectified-adam-0.17.0\n"
          ],
          "name": "stdout"
        }
      ]
    },
    {
      "cell_type": "code",
      "metadata": {
        "id": "akdwiWxjn5zv",
        "colab_type": "code",
        "colab": {}
      },
      "source": [
        "import os\n",
        "import re\n",
        "import numpy as np\n",
        "import pandas as pd\n",
        "from time import time\n",
        "\n",
        "import matplotlib\n",
        "import matplotlib.pyplot as plt\n",
        "\n",
        "# Text Pre-processing \n",
        "from tensorflow.keras.preprocessing.text import text_to_word_sequence\n",
        "import nltk\n",
        "from nltk.corpus import stopwords\n",
        "from nltk.stem import WordNetLemmatizer\n",
        "\n",
        "# Word Embedding\n",
        "from tensorflow.keras.preprocessing.text import Tokenizer\n",
        "from gensim.models import Word2Vec\n",
        "from glove import Glove, Corpus\n",
        "from keras.preprocessing.sequence import pad_sequences\n",
        "\n",
        "# Pipline\n",
        "from sklearn.base import BaseEstimator, TransformerMixin\n",
        "from sklearn.pipeline import Pipeline\n",
        "\n",
        "# MaLSTM\n",
        "import tensorflow as tf\n",
        "from keras import initializers\n",
        "from tensorflow.python.keras.models import Model, Sequential\n",
        "from tensorflow.python.keras.layers import Input, Embedding, LSTM, Dense, Dropout, Layer\n",
        "from tensorflow.python.keras import backend as K\n",
        "from keras_radam import RAdam\n",
        "\n",
        "# Model evaluation\n",
        "from sklearn.metrics import precision_recall_fscore_support, accuracy_score"
      ],
      "execution_count": 0,
      "outputs": []
    },
    {
      "cell_type": "code",
      "metadata": {
        "id": "sdCKH4vIuRXo",
        "colab_type": "code",
        "outputId": "8768b896-2e76-4fa3-bdd4-cb2fffe55aad",
        "colab": {
          "base_uri": "https://localhost:8080/",
          "height": 122
        }
      },
      "source": [
        "from google.colab import drive\n",
        "drive.mount('/content/drive')"
      ],
      "execution_count": 0,
      "outputs": [
        {
          "output_type": "stream",
          "text": [
            "Go to this URL in a browser: https://accounts.google.com/o/oauth2/auth?client_id=947318989803-6bn6qk8qdgf4n4g3pfee6491hc0brc4i.apps.googleusercontent.com&redirect_uri=urn%3aietf%3awg%3aoauth%3a2.0%3aoob&response_type=code&scope=email%20https%3a%2f%2fwww.googleapis.com%2fauth%2fdocs.test%20https%3a%2f%2fwww.googleapis.com%2fauth%2fdrive%20https%3a%2f%2fwww.googleapis.com%2fauth%2fdrive.photos.readonly%20https%3a%2f%2fwww.googleapis.com%2fauth%2fpeopleapi.readonly\n",
            "\n",
            "Enter your authorization code:\n",
            "··········\n",
            "Mounted at /content/drive\n"
          ],
          "name": "stdout"
        }
      ]
    },
    {
      "cell_type": "markdown",
      "metadata": {
        "id": "I5iVDsJNr0yu",
        "colab_type": "text"
      },
      "source": [
        "# Load Data"
      ]
    },
    {
      "cell_type": "code",
      "metadata": {
        "id": "Gy-61COBoWtf",
        "colab_type": "code",
        "outputId": "ff027682-68ba-40e3-dbc6-f236d0edcc0e",
        "colab": {
          "base_uri": "https://localhost:8080/",
          "height": 34
        }
      },
      "source": [
        "os.getcwd()"
      ],
      "execution_count": 0,
      "outputs": [
        {
          "output_type": "execute_result",
          "data": {
            "text/plain": [
              "'/content'"
            ]
          },
          "metadata": {
            "tags": []
          },
          "execution_count": 4
        }
      ]
    },
    {
      "cell_type": "code",
      "metadata": {
        "colab_type": "code",
        "id": "v5eBN2CtrC5u",
        "colab": {}
      },
      "source": [
        "hw_dir = \"drive/My Drive/ML-project\"\n",
        "\n",
        "os.chdir(hw_dir)"
      ],
      "execution_count": 0,
      "outputs": []
    },
    {
      "cell_type": "code",
      "metadata": {
        "id": "ZglP97cupIJ7",
        "colab_type": "code",
        "outputId": "e9015900-bb32-4820-f716-85b5ccc1f85d",
        "colab": {
          "base_uri": "https://localhost:8080/",
          "height": 34
        }
      },
      "source": [
        "os.getcwd()"
      ],
      "execution_count": 0,
      "outputs": [
        {
          "output_type": "execute_result",
          "data": {
            "text/plain": [
              "'/content/drive/My Drive/ML-project'"
            ]
          },
          "metadata": {
            "tags": []
          },
          "execution_count": 6
        }
      ]
    },
    {
      "cell_type": "code",
      "metadata": {
        "id": "rooMlfmjpc_W",
        "colab_type": "code",
        "outputId": "ea077d07-a8f4-48c2-ac58-195c13ee04f7",
        "colab": {
          "base_uri": "https://localhost:8080/",
          "height": 235
        }
      },
      "source": [
        "df = pd.read_csv(\"./data/train.csv\", index_col=\"id\")\n",
        "df.head()"
      ],
      "execution_count": 0,
      "outputs": [
        {
          "output_type": "execute_result",
          "data": {
            "text/html": [
              "<div>\n",
              "<style scoped>\n",
              "    .dataframe tbody tr th:only-of-type {\n",
              "        vertical-align: middle;\n",
              "    }\n",
              "\n",
              "    .dataframe tbody tr th {\n",
              "        vertical-align: top;\n",
              "    }\n",
              "\n",
              "    .dataframe thead th {\n",
              "        text-align: right;\n",
              "    }\n",
              "</style>\n",
              "<table border=\"1\" class=\"dataframe\">\n",
              "  <thead>\n",
              "    <tr style=\"text-align: right;\">\n",
              "      <th></th>\n",
              "      <th>qid1</th>\n",
              "      <th>qid2</th>\n",
              "      <th>question1</th>\n",
              "      <th>question2</th>\n",
              "      <th>is_duplicate</th>\n",
              "    </tr>\n",
              "    <tr>\n",
              "      <th>id</th>\n",
              "      <th></th>\n",
              "      <th></th>\n",
              "      <th></th>\n",
              "      <th></th>\n",
              "      <th></th>\n",
              "    </tr>\n",
              "  </thead>\n",
              "  <tbody>\n",
              "    <tr>\n",
              "      <th>0</th>\n",
              "      <td>1</td>\n",
              "      <td>2</td>\n",
              "      <td>What is the step by step guide to invest in sh...</td>\n",
              "      <td>What is the step by step guide to invest in sh...</td>\n",
              "      <td>0</td>\n",
              "    </tr>\n",
              "    <tr>\n",
              "      <th>1</th>\n",
              "      <td>3</td>\n",
              "      <td>4</td>\n",
              "      <td>What is the story of Kohinoor (Koh-i-Noor) Dia...</td>\n",
              "      <td>What would happen if the Indian government sto...</td>\n",
              "      <td>0</td>\n",
              "    </tr>\n",
              "    <tr>\n",
              "      <th>2</th>\n",
              "      <td>5</td>\n",
              "      <td>6</td>\n",
              "      <td>How can I increase the speed of my internet co...</td>\n",
              "      <td>How can Internet speed be increased by hacking...</td>\n",
              "      <td>0</td>\n",
              "    </tr>\n",
              "    <tr>\n",
              "      <th>3</th>\n",
              "      <td>7</td>\n",
              "      <td>8</td>\n",
              "      <td>Why am I mentally very lonely? How can I solve...</td>\n",
              "      <td>Find the remainder when [math]23^{24}[/math] i...</td>\n",
              "      <td>0</td>\n",
              "    </tr>\n",
              "    <tr>\n",
              "      <th>4</th>\n",
              "      <td>9</td>\n",
              "      <td>10</td>\n",
              "      <td>Which one dissolve in water quikly sugar, salt...</td>\n",
              "      <td>Which fish would survive in salt water?</td>\n",
              "      <td>0</td>\n",
              "    </tr>\n",
              "  </tbody>\n",
              "</table>\n",
              "</div>"
            ],
            "text/plain": [
              "    qid1  qid2  ...                                          question2 is_duplicate\n",
              "id              ...                                                                \n",
              "0      1     2  ...  What is the step by step guide to invest in sh...            0\n",
              "1      3     4  ...  What would happen if the Indian government sto...            0\n",
              "2      5     6  ...  How can Internet speed be increased by hacking...            0\n",
              "3      7     8  ...  Find the remainder when [math]23^{24}[/math] i...            0\n",
              "4      9    10  ...            Which fish would survive in salt water?            0\n",
              "\n",
              "[5 rows x 5 columns]"
            ]
          },
          "metadata": {
            "tags": []
          },
          "execution_count": 7
        }
      ]
    },
    {
      "cell_type": "markdown",
      "metadata": {
        "id": "X5BwWIA9sgTO",
        "colab_type": "text"
      },
      "source": [
        "## Remove Rows with Missing Data"
      ]
    },
    {
      "cell_type": "code",
      "metadata": {
        "id": "QNjNzxOvriam",
        "colab_type": "code",
        "outputId": "361711c3-8aaa-4085-e9be-7e464325210b",
        "colab": {
          "base_uri": "https://localhost:8080/",
          "height": 221
        }
      },
      "source": [
        "df.info()"
      ],
      "execution_count": 0,
      "outputs": [
        {
          "output_type": "stream",
          "text": [
            "<class 'pandas.core.frame.DataFrame'>\n",
            "Int64Index: 404290 entries, 0 to 404289\n",
            "Data columns (total 5 columns):\n",
            " #   Column        Non-Null Count   Dtype \n",
            "---  ------        --------------   ----- \n",
            " 0   qid1          404290 non-null  int64 \n",
            " 1   qid2          404290 non-null  int64 \n",
            " 2   question1     404289 non-null  object\n",
            " 3   question2     404288 non-null  object\n",
            " 4   is_duplicate  404290 non-null  int64 \n",
            "dtypes: int64(3), object(2)\n",
            "memory usage: 18.5+ MB\n"
          ],
          "name": "stdout"
        }
      ]
    },
    {
      "cell_type": "code",
      "metadata": {
        "id": "ECNse4i7r-v7",
        "colab_type": "code",
        "outputId": "b4716749-154c-4ce6-a3a5-2ad4d4770db0",
        "colab": {
          "base_uri": "https://localhost:8080/",
          "height": 173
        }
      },
      "source": [
        "df.loc[df.question1.isnull() | df.question2.isnull(), :]"
      ],
      "execution_count": 0,
      "outputs": [
        {
          "output_type": "execute_result",
          "data": {
            "text/html": [
              "<div>\n",
              "<style scoped>\n",
              "    .dataframe tbody tr th:only-of-type {\n",
              "        vertical-align: middle;\n",
              "    }\n",
              "\n",
              "    .dataframe tbody tr th {\n",
              "        vertical-align: top;\n",
              "    }\n",
              "\n",
              "    .dataframe thead th {\n",
              "        text-align: right;\n",
              "    }\n",
              "</style>\n",
              "<table border=\"1\" class=\"dataframe\">\n",
              "  <thead>\n",
              "    <tr style=\"text-align: right;\">\n",
              "      <th></th>\n",
              "      <th>qid1</th>\n",
              "      <th>qid2</th>\n",
              "      <th>question1</th>\n",
              "      <th>question2</th>\n",
              "      <th>is_duplicate</th>\n",
              "    </tr>\n",
              "    <tr>\n",
              "      <th>id</th>\n",
              "      <th></th>\n",
              "      <th></th>\n",
              "      <th></th>\n",
              "      <th></th>\n",
              "      <th></th>\n",
              "    </tr>\n",
              "  </thead>\n",
              "  <tbody>\n",
              "    <tr>\n",
              "      <th>105780</th>\n",
              "      <td>174363</td>\n",
              "      <td>174364</td>\n",
              "      <td>How can I develop android app?</td>\n",
              "      <td>NaN</td>\n",
              "      <td>0</td>\n",
              "    </tr>\n",
              "    <tr>\n",
              "      <th>201841</th>\n",
              "      <td>303951</td>\n",
              "      <td>174364</td>\n",
              "      <td>How can I create an Android app?</td>\n",
              "      <td>NaN</td>\n",
              "      <td>0</td>\n",
              "    </tr>\n",
              "    <tr>\n",
              "      <th>363362</th>\n",
              "      <td>493340</td>\n",
              "      <td>493341</td>\n",
              "      <td>NaN</td>\n",
              "      <td>My Chinese name is Haichao Yu. What English na...</td>\n",
              "      <td>0</td>\n",
              "    </tr>\n",
              "  </tbody>\n",
              "</table>\n",
              "</div>"
            ],
            "text/plain": [
              "          qid1  ...  is_duplicate\n",
              "id              ...              \n",
              "105780  174363  ...             0\n",
              "201841  303951  ...             0\n",
              "363362  493340  ...             0\n",
              "\n",
              "[3 rows x 5 columns]"
            ]
          },
          "metadata": {
            "tags": []
          },
          "execution_count": 9
        }
      ]
    },
    {
      "cell_type": "code",
      "metadata": {
        "id": "qvFrBsZLsLVv",
        "colab_type": "code",
        "outputId": "844104e9-11bb-4c93-f0a1-74daaf55fe89",
        "colab": {
          "base_uri": "https://localhost:8080/",
          "height": 221
        }
      },
      "source": [
        "df = df.dropna(axis = 0)\n",
        "df.info()"
      ],
      "execution_count": 0,
      "outputs": [
        {
          "output_type": "stream",
          "text": [
            "<class 'pandas.core.frame.DataFrame'>\n",
            "Int64Index: 404287 entries, 0 to 404289\n",
            "Data columns (total 5 columns):\n",
            " #   Column        Non-Null Count   Dtype \n",
            "---  ------        --------------   ----- \n",
            " 0   qid1          404287 non-null  int64 \n",
            " 1   qid2          404287 non-null  int64 \n",
            " 2   question1     404287 non-null  object\n",
            " 3   question2     404287 non-null  object\n",
            " 4   is_duplicate  404287 non-null  int64 \n",
            "dtypes: int64(3), object(2)\n",
            "memory usage: 18.5+ MB\n"
          ],
          "name": "stdout"
        }
      ]
    },
    {
      "cell_type": "code",
      "metadata": {
        "id": "jLHUJI6LCRPQ",
        "colab_type": "code",
        "outputId": "0106504f-fa84-4cd3-ab80-c39d14cec9a0",
        "colab": {
          "base_uri": "https://localhost:8080/",
          "height": 34
        }
      },
      "source": [
        "df.is_duplicate.sum() / df.shape[0]"
      ],
      "execution_count": 0,
      "outputs": [
        {
          "output_type": "execute_result",
          "data": {
            "text/plain": [
              "0.3692005926482919"
            ]
          },
          "metadata": {
            "tags": []
          },
          "execution_count": 15
        }
      ]
    },
    {
      "cell_type": "markdown",
      "metadata": {
        "id": "vBWBVBwuuAgU",
        "colab_type": "text"
      },
      "source": [
        "## EDA"
      ]
    },
    {
      "cell_type": "code",
      "metadata": {
        "id": "ADG68I7lvsuB",
        "colab_type": "code",
        "outputId": "b011746a-845d-4d9a-c2f2-15bec257fbf1",
        "colab": {
          "base_uri": "https://localhost:8080/",
          "height": 68
        }
      },
      "source": [
        "df.is_duplicate.value_counts()"
      ],
      "execution_count": 0,
      "outputs": [
        {
          "output_type": "execute_result",
          "data": {
            "text/plain": [
              "0    255024\n",
              "1    149263\n",
              "Name: is_duplicate, dtype: int64"
            ]
          },
          "metadata": {
            "tags": []
          },
          "execution_count": 11
        }
      ]
    },
    {
      "cell_type": "code",
      "metadata": {
        "id": "fRA-wgpzt7u8",
        "colab_type": "code",
        "outputId": "08462c05-a287-4bd4-e9d0-c3b2720abd24",
        "colab": {
          "base_uri": "https://localhost:8080/",
          "height": 320
        }
      },
      "source": [
        "plt.figure(figsize = (6, 5))\n",
        "plt.bar([\"Not duplicated\", \"Duplicated\"], df.is_duplicate.value_counts())\n",
        "plt.show()"
      ],
      "execution_count": 0,
      "outputs": [
        {
          "output_type": "display_data",
          "data": {
            "image/png": "[encoded data removed]",
            "text/plain": [
              "<Figure size 432x360 with 1 Axes>"
            ]
          },
          "metadata": {
            "tags": [],
            "needs_background": "light"
          }
        }
      ]
    },
    {
      "cell_type": "markdown",
      "metadata": {
        "id": "qEJlS6aGwTL7",
        "colab_type": "text"
      },
      "source": [
        "# Word2Vec"
      ]
    },
    {
      "cell_type": "code",
      "metadata": {
        "id": "KinjrH-bE8ft",
        "colab_type": "code",
        "outputId": "ced56f5b-0b21-4f77-94b8-d402e3312854",
        "colab": {
          "base_uri": "https://localhost:8080/",
          "height": 102
        }
      },
      "source": [
        "nltk.download(\"stopwords\")\n",
        "nltk.download(\"wordnet\")"
      ],
      "execution_count": 0,
      "outputs": [
        {
          "output_type": "stream",
          "text": [
            "[nltk_data] Downloading package stopwords to /root/nltk_data...\n",
            "[nltk_data]   Unzipping corpora/stopwords.zip.\n",
            "[nltk_data] Downloading package wordnet to /root/nltk_data...\n",
            "[nltk_data]   Unzipping corpora/wordnet.zip.\n"
          ],
          "name": "stdout"
        },
        {
          "output_type": "execute_result",
          "data": {
            "text/plain": [
              "True"
            ]
          },
          "metadata": {
            "tags": []
          },
          "execution_count": 13
        }
      ]
    },
    {
      "cell_type": "code",
      "metadata": {
        "id": "czkqIC5FXoYm",
        "colab_type": "code",
        "colab": {}
      },
      "source": [
        "w2v_embedding_file = './data/GoogleNews-vectors-negative300.bin'\n",
        "glove_embedding_file='./data/glove.6B.300d.txt'"
      ],
      "execution_count": 0,
      "outputs": []
    },
    {
      "cell_type": "markdown",
      "metadata": {
        "id": "vmCGDrL5KDyZ",
        "colab_type": "text"
      },
      "source": [
        "## Text Pre-processing"
      ]
    },
    {
      "cell_type": "code",
      "metadata": {
        "id": "Ry2-v3ak5OGP",
        "colab_type": "code",
        "colab": {}
      },
      "source": [
        "class Text_Pre(BaseEstimator, TransformerMixin):\n",
        "\n",
        "  def __init__(self, use_wh = False):\n",
        "    self.use_wh = use_wh\n",
        "\n",
        "  def fit(self, X, y = None):\n",
        "    return self\n",
        "\n",
        "  def transform(self, X, y = None):\n",
        "\n",
        "    # Data Cleaning & Normalization\n",
        "    X = X.apply(lambda text: re.sub(r\"[^A-Za-z0-9^,!.\\/'+-=]\", \" \", text))\n",
        "    X = X.apply(lambda text: re.sub(r\"e - mail\", \"email\", text))\n",
        "    X = X.apply(lambda text: re.sub(r\"what's\", \"what is \", text))\n",
        "    X = X.apply(lambda text: re.sub(r\"\\'ve\", \" have \", text))\n",
        "    X = X.apply(lambda text: re.sub(r\"can't\", \"can not\", text))\n",
        "    X = X.apply(lambda text: re.sub(r\"n't\", \" not \", text))\n",
        "    X = X.apply(lambda text: re.sub(r\"i'm\", \"i am \", text))\n",
        "    X = X.apply(lambda text: re.sub(r\"\\'re\", \" are \", text))\n",
        "    X = X.apply(lambda text: re.sub(r\"\\'d\", \" would \", text))\n",
        "    X = X.apply(lambda text: re.sub(r\"\\'ll\", \" will \", text))\n",
        "    \n",
        "    # Tokenize\n",
        "    X = X.apply(lambda text: text_to_word_sequence(text))\n",
        "\n",
        "    # Stopwords\n",
        "    org = set(stopwords.words(\"english\"))\n",
        "    stops = org.difference(set([\"no\", \"not\", \"nor\"]))\n",
        "    if self.use_wh :\n",
        "      wh = set([\"what\", \"which\", \"when\", \"where\", \"who\", \"whom\", \"whose\", \"why\", \"whether\", \"how\"])\n",
        "      stops= stops.difference(wh) \n",
        "    X = X.apply(lambda text: [w for w in text if not w in stops])\n",
        "    \n",
        "    # Lemmatization\n",
        "    lm = WordNetLemmatizer()\n",
        "    X = X.apply(lambda text: [lm.lemmatize(word) for word in text])\n",
        "\n",
        "    return X"
      ],
      "execution_count": 0,
      "outputs": []
    },
    {
      "cell_type": "code",
      "metadata": {
        "id": "auSFV0m_5P8a",
        "colab_type": "code",
        "colab": {}
      },
      "source": [
        "class Text_W2V(BaseEstimator, TransformerMixin):\n",
        "\n",
        "  def __init__(self, pretrain = True, max_len = None):\n",
        "    self.pretrain = pretrain\n",
        "    self.max_seq = max_len\n",
        "\n",
        "  def fit(self, X, y = None):\n",
        "    # Make dictionary for mapping {word : index}\n",
        "    tk = Tokenizer()\n",
        "    tk.fit_on_texts(X) \n",
        "    self.word_index_ = tk.word_index\n",
        "\n",
        "    # Mapping the words to the index & Zero Padding\n",
        "    sequences = tk.texts_to_sequences(X)\n",
        "    self.data_ = pad_sequences(sequences, maxlen = self.max_seq)\n",
        "\n",
        "    return self\n",
        "  \n",
        "  def transform(self, X, y = None):\n",
        "    global w2v_embedding_file\n",
        "\n",
        "    # Word2Vec\n",
        "    text_w2v = list(X)\n",
        "    model = Word2Vec(text_w2v, size=300, window=3, min_count=1, workers=1)\n",
        "\n",
        "    # Intersect with pre-trained model\n",
        "    if self.pretrain:\n",
        "      model.intersect_word2vec_format(fname=w2v_embedding_file, binary=True, lockf = 1.0)\n",
        "\n",
        "    # Result of Word2Vec\n",
        "    word_vectors = model.wv\n",
        "    vocabs= word_vectors.vocab.keys()\n",
        "\n",
        "    # Embedding\n",
        "    nword = len(vocabs)+1\n",
        "    embedding_matrix = np.zeros((nword, 300))\n",
        "    for word, i in self.word_index_.items():\n",
        "      if word in vocabs:\n",
        "          embedding_matrix[i] = word_vectors[word]\n",
        "    print('Null word embeddings: %d' % np.sum(np.sum(embedding_matrix, axis=1) == 0)) # It should be 1\n",
        "    return self.data_, embedding_matrix"
      ],
      "execution_count": 0,
      "outputs": []
    },
    {
      "cell_type": "code",
      "metadata": {
        "id": "YcIYoCOghOrq",
        "colab_type": "code",
        "colab": {}
      },
      "source": [
        "class Text_GLOVE(BaseEstimator, TransformerMixin):\n",
        "\n",
        "  def __init__(self):\n",
        "    pass\n",
        "\n",
        "  def fit(self, X, y = None):\n",
        "    tk = Tokenizer()\n",
        "    tk.fit_on_texts(X) \n",
        "    self.word_index_ = tk.word_index\n",
        "\n",
        "    # Mapping the words to the index & Zero Padding\n",
        "    sequences = tk.texts_to_sequences(X)\n",
        "    self.data_ = pad_sequences(sequences, maxlen=30)\n",
        "\n",
        "    return self\n",
        "\n",
        "  def transform(self, X, y = None):\n",
        "    global glove_embedding_file\n",
        "\n",
        "    # 사전학습된 glove 파일 읽어오기\n",
        "    embedding_dict = dict()\n",
        "    f = open(glove_embedding_file, encoding=\"utf8\")\n",
        "    for line in f:\n",
        "      word_vector = line.split()\n",
        "      word = word_vector[0]\n",
        "      word_vector_arr = np.asarray(word_vector[1:], dtype='float32') \n",
        "      embedding_dict[word] = word_vector_arr\n",
        "    f.close()\n",
        "\n",
        "    # Embedding\n",
        "    q_vocab_size=len(self.word_index_)+1\n",
        "    q_embedding_matrix=np.zeros((q_vocab_size, 300))\n",
        "    \n",
        "    for i in self.word_index_:\n",
        "      temp=embedding_dict.get(i)\n",
        "      if temp is not None:\n",
        "        q_embedding_matrix[self.word_index_[i]]=temp\n",
        "\n",
        "    return q_vocab_size, self.data_, q_embedding_matrix"
      ],
      "execution_count": 0,
      "outputs": []
    },
    {
      "cell_type": "markdown",
      "metadata": {
        "id": "GHEzUftPhbTG",
        "colab_type": "text"
      },
      "source": [
        "## Integer Encoding & Word Embedding (Word2Vec, GloVe)"
      ]
    },
    {
      "cell_type": "code",
      "metadata": {
        "id": "0qsr5SA5hiwC",
        "colab_type": "code",
        "colab": {}
      },
      "source": [
        "class Text_EMB(BaseEstimator, TransformerMixin):\n",
        "\n",
        "  def __init__(self, pretrain = True, max_len = None, method = \"word2vec\"):\n",
        "    self.pretrain = pretrain\n",
        "    self.max_seq = max_len\n",
        "    self.method = method\n",
        "\n",
        "  def fit(self, X, y = None):\n",
        "    # Make dictionary for mapping {word : index}\n",
        "    tk = Tokenizer()\n",
        "    tk.fit_on_texts(X) \n",
        "    self.word_index_ = tk.word_index\n",
        "\n",
        "    # Mapping the words to the index & Zero Padding\n",
        "    sequences = tk.texts_to_sequences(X)\n",
        "    self.data_ = pad_sequences(sequences, maxlen = self.max_seq)\n",
        "\n",
        "    return self\n",
        "  \n",
        "  def transform(self, X, y = None):\n",
        "    \n",
        "    # Word2Vec\n",
        "    if self.method == \"word2vec\":\n",
        "      global w2v_embedding_file\n",
        "\n",
        "      text_w2v = list(X)\n",
        "      model = Word2Vec(text_w2v, size=300, window=3, min_count=1, workers=1)\n",
        "\n",
        "      # Intersect with pre-trained model\n",
        "      if self.pretrain:\n",
        "        model.intersect_word2vec_format(fname=w2v_embedding_file, binary=True, lockf = 1.0)\n",
        "\n",
        "      # Result of Word2Vec\n",
        "      word_vectors = model.wv\n",
        "      vocabs= word_vectors.vocab.keys()\n",
        "\n",
        "      # Embedding\n",
        "      nword = len(vocabs)+1\n",
        "      embedding_matrix = np.zeros((nword, 300))\n",
        "      for word, i in self.word_index_.items():\n",
        "        if word in vocabs:\n",
        "            embedding_matrix[i] = word_vectors[word]\n",
        "      print('Null word embeddings: %d' % np.sum(np.sum(embedding_matrix, axis=1) == 0)) # It should be 1\n",
        "\n",
        "    # GloVe\n",
        "    if self.method == \"glove\":\n",
        "      global glove_embedding_file\n",
        "\n",
        "      corpus = Corpus()\n",
        "      corpus.fit(test1, window = 5)\n",
        "      glove=Glove(no_components=300,learning_rate=0.05)\n",
        "      glove.fit(corpus.matrix, epochs=30,no_threads=4,verbose=False)\n",
        "      embedding_matrix = np.concatenate([np.zeros(300).reshape(1, 300), glove.word_vectors])\n",
        "\n",
        "      if self.pretrain:\n",
        "        global glove_embedding_file\n",
        "\n",
        "        # 사전학습된 glove 파일 읽어오기\n",
        "        embedding_dict = dict()\n",
        "        f = open(glove_embedding_file, encoding=\"utf8\")\n",
        "        for line in f:\n",
        "          word_vector = line.split()\n",
        "          word = word_vector[0]\n",
        "          word_vector_arr = np.asarray(word_vector[1:], dtype='float32') \n",
        "          embedding_dict[word] = word_vector_arr\n",
        "        f.close()\n",
        "\n",
        "        # Embedding\n",
        "        nword = len(self.word_index_)+1\n",
        "    \n",
        "        for word, i in self.word_index_.items():\n",
        "          if word in embedding_dict.keys():\n",
        "            embedding_matrix[i] = embedding_dict[word]\n",
        "\n",
        "    return self.data_, embedding_matrix"
      ],
      "execution_count": 0,
      "outputs": []
    },
    {
      "cell_type": "code",
      "metadata": {
        "id": "G1C8aKVh6jql",
        "colab_type": "code",
        "colab": {}
      },
      "source": [
        "quest1 = df.iloc[:, 2]\n",
        "quest2 = df.iloc[:, 3]\n",
        "label = df.iloc[:, 4].values"
      ],
      "execution_count": 0,
      "outputs": []
    },
    {
      "cell_type": "code",
      "metadata": {
        "id": "3ZNqfEl0JRFz",
        "colab_type": "code",
        "outputId": "9f7430b6-b725-4ea7-c1e9-fbb1446d98dd",
        "colab": {
          "base_uri": "https://localhost:8080/",
          "height": 34
        }
      },
      "source": [
        "org_len = len(quest1)\n",
        "print(org_len)"
      ],
      "execution_count": 0,
      "outputs": [
        {
          "output_type": "stream",
          "text": [
            "404287\n"
          ],
          "name": "stdout"
        }
      ]
    },
    {
      "cell_type": "code",
      "metadata": {
        "id": "Tl_wF9IWK--J",
        "colab_type": "code",
        "outputId": "a8b6da56-ba49-428d-8452-fbc51ce25c79",
        "colab": {
          "base_uri": "https://localhost:8080/",
          "height": 34
        }
      },
      "source": [
        "# Combine quest1 & quest2\n",
        "quest = quest1.append(quest2)\n",
        "print(len(quest)) # It must be 2 times org_len"
      ],
      "execution_count": 0,
      "outputs": [
        {
          "output_type": "stream",
          "text": [
            "808574\n"
          ],
          "name": "stdout"
        }
      ]
    },
    {
      "cell_type": "code",
      "metadata": {
        "id": "vsCRG8m6fDpv",
        "colab_type": "code",
        "colab": {}
      },
      "source": [
        "def my_pipe(data, use_wh, pretrain, max_len, method):\n",
        "  pipe = Pipeline([\n",
        "                   ('Pre-processing', Text_Pre(use_wh = use_wh)),\n",
        "                   ('Embedding', Text_EMB(pretrain = pretrain, max_len = max_len, method = method))\n",
        "  ])\n",
        "  map_data, embd_mat = pipe.fit_transform(data)\n",
        "  \n",
        "  n = int(len(data) / 2 )\n",
        "  data1 = map_data[:n]\n",
        "  data2 = map_data[n:]\n",
        "\n",
        "  return data1, data2, embd_mat"
      ],
      "execution_count": 0,
      "outputs": []
    },
    {
      "cell_type": "code",
      "metadata": {
        "id": "4FfAF5Gp399N",
        "colab_type": "code",
        "colab": {}
      },
      "source": [
        "tp = Text_Pre(use_wh = True)\n",
        "t = tp.fit_transform(quest)"
      ],
      "execution_count": 0,
      "outputs": []
    },
    {
      "cell_type": "code",
      "metadata": {
        "id": "5LOd2RLd4Pnb",
        "colab_type": "code",
        "outputId": "29b3107e-6b42-4c95-cb92-507f6fb2e1a6",
        "colab": {
          "base_uri": "https://localhost:8080/",
          "height": 320
        }
      },
      "source": [
        "plt.figure(figsize = (10, 5))\n",
        "plt.hist(t.apply(len).values,bins = 20, range = (0, 40), color = \"#7864DF\", edgecolor = \"white\")\n",
        "plt.show()"
      ],
      "execution_count": 0,
      "outputs": [
        {
          "output_type": "display_data",
          "data": {
            "image/png": "[encoded data removed]",
            "text/plain": [
              "<Figure size 720x360 with 1 Axes>"
            ]
          },
          "metadata": {
            "tags": [],
            "needs_background": "light"
          }
        }
      ]
    },
    {
      "cell_type": "code",
      "metadata": {
        "id": "6JlYxKJr4MpL",
        "colab_type": "code",
        "outputId": "6b6fc90d-61f6-4de3-8be3-6396ee2c5eae",
        "colab": {
          "base_uri": "https://localhost:8080/",
          "height": 119
        }
      },
      "source": [
        "print(\"\"\"\n",
        "Mininum length of questions : %d\n",
        "Maximum length of quetions : %d\n",
        "Mean length of questions : %.2f\n",
        "Median length of questions : %.2f\n",
        "\"\"\"%((t.apply(len).values).min(), (t.apply(len).values).max(), (t.apply(len).values).mean(), np.median(t.apply(len).values)))"
      ],
      "execution_count": 0,
      "outputs": [
        {
          "output_type": "stream",
          "text": [
            "\n",
            "Mininum length of questions : 0\n",
            "Maximum length of quetions : 110\n",
            "Mean length of questions : 6.57\n",
            "Median length of questions : 6.00\n",
            "\n"
          ],
          "name": "stdout"
        }
      ]
    },
    {
      "cell_type": "markdown",
      "metadata": {
        "id": "wg6IjKkVS9Rv",
        "colab_type": "text"
      },
      "source": [
        "# Modeling"
      ]
    },
    {
      "cell_type": "markdown",
      "metadata": {
        "id": "5DggMnnSTB12",
        "colab_type": "text"
      },
      "source": [
        "## Train-Test Split"
      ]
    },
    {
      "cell_type": "code",
      "metadata": {
        "id": "Wv2mOTpLTEDR",
        "colab_type": "code",
        "colab": {}
      },
      "source": [
        "def my_split(X1, X2, y, test_size=0.3, random_state=1):\n",
        "  \n",
        "  test_num = int(X1.shape[0] * test_size)\n",
        "  train_num = X1.shape[0] - test_num\n",
        "\n",
        "  np.random.seed(random_state)\n",
        "  idx = np.random.permutation(X1.shape[0])\n",
        "\n",
        "  X1 = X1[idx]\n",
        "  X2 = X2[idx]\n",
        "  y = y[idx]\n",
        "\n",
        "  X1_train = X1[:train_num]\n",
        "  X2_train = X2[:train_num]\n",
        "  y_train = y[:train_num]\n",
        "\n",
        "  X1_test = X1[train_num:]\n",
        "  X2_test = X2[train_num:]\n",
        "  y_test = y[train_num:]\n",
        "\n",
        "  return X1_train, X2_train, y_train, X1_test, X2_test, y_test"
      ],
      "execution_count": 0,
      "outputs": []
    },
    {
      "cell_type": "markdown",
      "metadata": {
        "id": "WiQdtDGCYfQp",
        "colab_type": "text"
      },
      "source": [
        "## MaLSTM"
      ]
    },
    {
      "cell_type": "code",
      "metadata": {
        "id": "VpDwjTNFRthz",
        "colab_type": "code",
        "colab": {}
      },
      "source": [
        "class ManDist(Layer):\n",
        "    \"\"\"\n",
        "    Keras Custom Layer that calculates Manhattan Distance.\n",
        "    \"\"\"\n",
        "\n",
        "    # initialize the layer, No need to include inputs parameter!\n",
        "    def __init__(self, **kwargs):\n",
        "        self.result = None\n",
        "        super(ManDist, self).__init__(**kwargs)\n",
        "\n",
        "    # input_shape will automatic collect input shapes to build layer\n",
        "    def build(self, input_shape):\n",
        "        super(ManDist, self).build(input_shape)\n",
        "\n",
        "    # This is where the layer's logic lives.\n",
        "    def call(self, x, **kwargs):\n",
        "        self.result = K.exp(-K.sum(K.abs(x[0] - x[1]), axis=1, keepdims=True))\n",
        "        return self.result\n",
        "\n",
        "    # return output shape\n",
        "    def compute_output_shape(self, input_shape):\n",
        "        return K.int_shape(self.result)"
      ],
      "execution_count": 0,
      "outputs": []
    },
    {
      "cell_type": "code",
      "metadata": {
        "id": "a1NiJY0MYeyz",
        "colab_type": "code",
        "colab": {}
      },
      "source": [
        "def modeling(embedding_matrix, n_hidden, bias_init, opt='Adadelta', max_len=30, summary = True):\n",
        "  \n",
        "  x=Sequential()\n",
        "\n",
        "  x.add(Embedding(embedding_matrix.shape[0], 300,\n",
        "        weights=[embedding_matrix],\n",
        "        input_length=max_len,\n",
        "        trainable=False))\n",
        "\n",
        "  x.add(LSTM(n_hidden, \n",
        "             bias_initializer=initializers.Constant(bias_init)))\n",
        "\n",
        "  shared_model=x\n",
        "\n",
        "  left_input = Input(shape=(max_len,), dtype='int32')\n",
        "  right_input = Input(shape=(max_len,), dtype='int32')\n",
        "\n",
        "  malstm_distance = ManDist()([shared_model(left_input), shared_model(right_input)])\n",
        "  model = Model(inputs=[left_input, right_input], outputs=[malstm_distance])\n",
        "  if opt=='Adadelta':\n",
        "    model.compile(loss='binary_crossentropy', optimizer=tf.keras.optimizers.Adadelta(), metrics=['accuracy'])  \n",
        "  elif 'Adam':\n",
        "    model.compile(loss='binary_crossentropy', optimizer=tf.keras.optimizers.Adam(), metrics=['accuracy'])\n",
        "  elif 'Momemtum':\n",
        "    model.compile(loss='binary_crossentropy', optimizer=tf.keras.optimizers.Momemtum(), metrics=['accuracy'])\n",
        "  elif 'SGD':\n",
        "    model.compile(loss='binary_crossentropy', optimizer=tf.keras.optimizers.SGD(), metrics=['accuracy'])\n",
        "  elif 'RAdam':\n",
        "    model.compile(loss='binary_crossentropy', optimizer=tf.keras.optimizers.RAdam(), metrics=['accuracy'])\n",
        "\n",
        "  if summary :\n",
        "    model.summary()\n",
        "  return model"
      ],
      "execution_count": 0,
      "outputs": []
    },
    {
      "cell_type": "code",
      "metadata": {
        "id": "AK09J9BnkbOg",
        "colab_type": "code",
        "colab": {}
      },
      "source": [
        "# Prameters for data\n",
        "use_whs = [True, False]\n",
        "pretrains = [True, False]\n",
        "max_lens=[20, 30, 50]\n",
        "methods = ['word2vec', 'glove']\n",
        "\n",
        "# Prameters for model\n",
        "batch_sizes = [500,1000]\n",
        "n_epochs = [15,30]\n",
        "n_hiddens = [10,15,30, 50]\n",
        "opts=['Adadelta','Adam','SGD', 'Momemtum', \"RAdam\"]\n",
        "bias_inits = [1.0, 1.5, 2.0, 2.5]"
      ],
      "execution_count": 0,
      "outputs": []
    },
    {
      "cell_type": "markdown",
      "metadata": {
        "id": "lIh9oG7FjglZ",
        "colab_type": "text"
      },
      "source": [
        "### Apply"
      ]
    },
    {
      "cell_type": "code",
      "metadata": {
        "id": "IMWDRciji33b",
        "colab_type": "code",
        "outputId": "a7e2caf9-060f-4351-86b7-c2d9b3dacb42",
        "colab": {
          "base_uri": "https://localhost:8080/",
          "height": 173
        }
      },
      "source": [
        "# Data parameter setting for Hyewon\n",
        "use_wh = use_whs[0]\n",
        "pretrain = use_whs[0]\n",
        "max_len = max_lens[0]\n",
        "method = methods[0]\n",
        "\n",
        "print(\"--------------Check your parameter setting---------------\")\n",
        "print(\"Using wh- words:\", use_wh)\n",
        "print(\"Using pretrained word2vec model:\", pretrain)\n",
        "print(\"Maximum length of questions:\", max_len)\n",
        "print(\"Word embedding method:\", method)\n",
        "print(\"---------------------------------------------------------\")\n",
        "\n",
        "# data\n",
        "d1, d2, e1 = my_pipe(quest, use_wh = use_wh, pretrain = pretrain, max_len = max_len, method = method)\n",
        "q1_train, q2_train, y_train, q1_test, q2_test, y_test = my_split(d1, d2, label, random_state = 1234)"
      ],
      "execution_count": 0,
      "outputs": [
        {
          "output_type": "stream",
          "text": [
            "--------------Check your parameter setting---------------\n",
            "Using wh- words: True\n",
            "Using pretrained word2vec model: True\n",
            "Maximum length of questions: 20\n",
            "---------------------------------------------------------\n"
          ],
          "name": "stdout"
        },
        {
          "output_type": "stream",
          "text": [
            "/usr/local/lib/python3.6/dist-packages/smart_open/smart_open_lib.py:253: UserWarning: This function is deprecated, use smart_open.open instead. See the migration notes for details: https://github.com/RaRe-Technologies/smart_open/blob/master/README.rst#migrating-to-the-new-open-function\n",
            "  'See the migration notes for details: %s' % _MIGRATION_NOTES_URL\n"
          ],
          "name": "stderr"
        },
        {
          "output_type": "stream",
          "text": [
            "Null word embeddings: 1\n"
          ],
          "name": "stdout"
        }
      ]
    },
    {
      "cell_type": "code",
      "metadata": {
        "id": "WalaHuoyjRnm",
        "colab_type": "code",
        "outputId": "21e5ceb6-84c8-437b-d36a-9a7b44cd056f",
        "colab": {
          "base_uri": "https://localhost:8080/",
          "height": 425
        }
      },
      "source": [
        "# Model parameter setting for Hyewon\n",
        "\n",
        "n_hidden = 50\n",
        "opt = \"Adam\"\n",
        "bias_init = 2.0\n",
        "\n",
        "print(\"--------------Check your parameter setting---------------\")\n",
        "print(\"Dimmension of hidden layer: \", n_hidden )\n",
        "print(\"Initial value of biase:\", bias_init)\n",
        "print(\"Optimizer: \", opt)\n",
        "print(\"Maximum length of questions: \", max_len)\n",
        "print(\"---------------------------------------------------------\")\n",
        "\n",
        "model=modeling(e1, n_hidden = n_hidden, bias_init = bias_init, opt = opt, max_len = max_len)"
      ],
      "execution_count": 0,
      "outputs": [
        {
          "output_type": "stream",
          "text": [
            "--------------Check your parameter setting---------------\n",
            "Dimmension of hidden layer:  50\n",
            "Initial value of biase: 2.0\n",
            "Optimizer:  Adam\n",
            "Maximum length of questions:  20\n",
            "---------------------------------------------------------\n",
            "Model: \"model\"\n",
            "__________________________________________________________________________________________________\n",
            "Layer (type)                    Output Shape         Param #     Connected to                     \n",
            "==================================================================================================\n",
            "input_1 (InputLayer)            [(None, 20)]         0                                            \n",
            "__________________________________________________________________________________________________\n",
            "input_2 (InputLayer)            [(None, 20)]         0                                            \n",
            "__________________________________________________________________________________________________\n",
            "sequential (Sequential)         (None, 50)           25315500    input_1[0][0]                    \n",
            "                                                                 input_2[0][0]                    \n",
            "__________________________________________________________________________________________________\n",
            "man_dist (ManDist)              (None, 1)            0           sequential[1][0]                 \n",
            "                                                                 sequential[2][0]                 \n",
            "==================================================================================================\n",
            "Total params: 25,315,500\n",
            "Trainable params: 70,200\n",
            "Non-trainable params: 25,245,300\n",
            "__________________________________________________________________________________________________\n"
          ],
          "name": "stdout"
        }
      ]
    },
    {
      "cell_type": "code",
      "metadata": {
        "id": "F8Mst1ZOSquS",
        "colab_type": "code",
        "outputId": "29934b8b-1810-4756-c3ac-11b5a7d7850e",
        "colab": {
          "base_uri": "https://localhost:8080/",
          "height": 1000
        }
      },
      "source": [
        "# Result under the setting of Hyewon\n",
        "batch_size = batch_sizes[0]\n",
        "n_epoch = 50\n",
        "\n",
        "print(\"--------------Check your parameter setting---------------\")\n",
        "print(\"Batch size:\", batch_size )\n",
        "print(\"Number of epoch:\", n_epoch)\n",
        "print(\"---------------------------------------------------------\")\n",
        "\n",
        "# model\n",
        "training_start_time = time()\n",
        "malstm_trained = model.fit([q1_train, q2_train], y_train,\n",
        "                           batch_size=batch_size, epochs= n_epoch,\n",
        "                           validation_split = 0.2)\n",
        "training_end_time = time()\n",
        "print(\n",
        "\"\"\"Training is finished. Check the parameter settings again.\n",
        "[Data parameter settings]\n",
        "Using wh- words: %s\n",
        "Using pretrained model: %s\n",
        "Embedding method: %s\n",
        "Maximum length of questions: %d\n",
        "\n",
        "[Model parameter settings]\n",
        "Dimension of hidden layer: %d\n",
        "Initial value of bias: %.1f\n",
        "Optimizer: %s\n",
        "Maximum length of questions: %d\n",
        "Batch size: %d\n",
        "Number of epochs: %d\n",
        "\n",
        "Training time: %d epochs in %12.2f\n",
        "\"\"\"%\n",
        "(use_wh, pretrain, meethod, max_len, n_hidden, bias_init, opt, max_len, batch_size, n_epoch, n_epoch, training_end_time - training_start_time))"
      ],
      "execution_count": 0,
      "outputs": [
        {
          "output_type": "stream",
          "text": [
            "--------------Check your parameter setting---------------\n",
            "Batch size: 500\n",
            "Number of epoch: 50\n",
            "---------------------------------------------------------\n",
            "Epoch 1/50\n",
            "453/453 [==============================] - 6s 12ms/step - loss: 0.6229 - accuracy: 0.7233 - val_loss: 0.5866 - val_accuracy: 0.7378\n",
            "Epoch 2/50\n",
            "453/453 [==============================] - 5s 11ms/step - loss: 0.5660 - accuracy: 0.7581 - val_loss: 0.5620 - val_accuracy: 0.7587\n",
            "Epoch 3/50\n",
            "453/453 [==============================] - 5s 11ms/step - loss: 0.5481 - accuracy: 0.7716 - val_loss: 0.5494 - val_accuracy: 0.7697\n",
            "Epoch 4/50\n",
            "453/453 [==============================] - 5s 11ms/step - loss: 0.5366 - accuracy: 0.7798 - val_loss: 0.5443 - val_accuracy: 0.7712\n",
            "Epoch 5/50\n",
            "453/453 [==============================] - 5s 11ms/step - loss: 0.5279 - accuracy: 0.7856 - val_loss: 0.5418 - val_accuracy: 0.7700\n",
            "Epoch 6/50\n",
            "453/453 [==============================] - 5s 11ms/step - loss: 0.5201 - accuracy: 0.7909 - val_loss: 0.5339 - val_accuracy: 0.7782\n",
            "Epoch 7/50\n",
            "453/453 [==============================] - 5s 11ms/step - loss: 0.5139 - accuracy: 0.7945 - val_loss: 0.5243 - val_accuracy: 0.7868\n",
            "Epoch 8/50\n",
            "453/453 [==============================] - 5s 11ms/step - loss: 0.5088 - accuracy: 0.7974 - val_loss: 0.5206 - val_accuracy: 0.7924\n",
            "Epoch 9/50\n",
            "453/453 [==============================] - 5s 11ms/step - loss: 0.5038 - accuracy: 0.8013 - val_loss: 0.5164 - val_accuracy: 0.7931\n",
            "Epoch 10/50\n",
            "453/453 [==============================] - 5s 11ms/step - loss: 0.4998 - accuracy: 0.8031 - val_loss: 0.5179 - val_accuracy: 0.7892\n",
            "Epoch 11/50\n",
            "453/453 [==============================] - 5s 11ms/step - loss: 0.4964 - accuracy: 0.8055 - val_loss: 0.5110 - val_accuracy: 0.7965\n",
            "Epoch 12/50\n",
            "453/453 [==============================] - 5s 11ms/step - loss: 0.4926 - accuracy: 0.8071 - val_loss: 0.5115 - val_accuracy: 0.7983\n",
            "Epoch 13/50\n",
            "453/453 [==============================] - 5s 11ms/step - loss: 0.4893 - accuracy: 0.8092 - val_loss: 0.5076 - val_accuracy: 0.7995\n",
            "Epoch 14/50\n",
            "453/453 [==============================] - 5s 11ms/step - loss: 0.4860 - accuracy: 0.8113 - val_loss: 0.5065 - val_accuracy: 0.8004\n",
            "Epoch 15/50\n",
            "453/453 [==============================] - 5s 11ms/step - loss: 0.4832 - accuracy: 0.8128 - val_loss: 0.5032 - val_accuracy: 0.8009\n",
            "Epoch 16/50\n",
            "453/453 [==============================] - 5s 11ms/step - loss: 0.4804 - accuracy: 0.8143 - val_loss: 0.5040 - val_accuracy: 0.7987\n",
            "Epoch 17/50\n",
            "453/453 [==============================] - 5s 11ms/step - loss: 0.4781 - accuracy: 0.8154 - val_loss: 0.5016 - val_accuracy: 0.8018\n",
            "Epoch 18/50\n",
            "453/453 [==============================] - 5s 11ms/step - loss: 0.4750 - accuracy: 0.8177 - val_loss: 0.4994 - val_accuracy: 0.8043\n",
            "Epoch 19/50\n",
            "453/453 [==============================] - 5s 11ms/step - loss: 0.4732 - accuracy: 0.8183 - val_loss: 0.4994 - val_accuracy: 0.8024\n",
            "Epoch 20/50\n",
            "453/453 [==============================] - 5s 11ms/step - loss: 0.4713 - accuracy: 0.8193 - val_loss: 0.5002 - val_accuracy: 0.8009\n",
            "Epoch 21/50\n",
            "453/453 [==============================] - 5s 11ms/step - loss: 0.4691 - accuracy: 0.8205 - val_loss: 0.4987 - val_accuracy: 0.8016\n",
            "Epoch 22/50\n",
            "453/453 [==============================] - 5s 11ms/step - loss: 0.4668 - accuracy: 0.8214 - val_loss: 0.4971 - val_accuracy: 0.8035\n",
            "Epoch 23/50\n",
            "453/453 [==============================] - 5s 11ms/step - loss: 0.4650 - accuracy: 0.8228 - val_loss: 0.4984 - val_accuracy: 0.8015\n",
            "Epoch 24/50\n",
            "453/453 [==============================] - 5s 11ms/step - loss: 0.4635 - accuracy: 0.8231 - val_loss: 0.4974 - val_accuracy: 0.8044\n",
            "Epoch 25/50\n",
            "453/453 [==============================] - 5s 11ms/step - loss: 0.4617 - accuracy: 0.8241 - val_loss: 0.4937 - val_accuracy: 0.8074\n",
            "Epoch 26/50\n",
            "453/453 [==============================] - 5s 11ms/step - loss: 0.4597 - accuracy: 0.8254 - val_loss: 0.4937 - val_accuracy: 0.8074\n",
            "Epoch 27/50\n",
            "453/453 [==============================] - 5s 11ms/step - loss: 0.4582 - accuracy: 0.8264 - val_loss: 0.4945 - val_accuracy: 0.8057\n",
            "Epoch 28/50\n",
            "453/453 [==============================] - 5s 11ms/step - loss: 0.4571 - accuracy: 0.8269 - val_loss: 0.4935 - val_accuracy: 0.8065\n",
            "Epoch 29/50\n",
            "453/453 [==============================] - 5s 11ms/step - loss: 0.4553 - accuracy: 0.8277 - val_loss: 0.4917 - val_accuracy: 0.8078\n",
            "Epoch 30/50\n",
            "453/453 [==============================] - 5s 11ms/step - loss: 0.4539 - accuracy: 0.8285 - val_loss: 0.4920 - val_accuracy: 0.8077\n",
            "Epoch 31/50\n",
            "453/453 [==============================] - 5s 11ms/step - loss: 0.4528 - accuracy: 0.8291 - val_loss: 0.4916 - val_accuracy: 0.8060\n",
            "Epoch 32/50\n",
            "453/453 [==============================] - 5s 11ms/step - loss: 0.4510 - accuracy: 0.8305 - val_loss: 0.4914 - val_accuracy: 0.8091\n",
            "Epoch 33/50\n",
            "453/453 [==============================] - 5s 11ms/step - loss: 0.4498 - accuracy: 0.8311 - val_loss: 0.4902 - val_accuracy: 0.8096\n",
            "Epoch 34/50\n",
            "453/453 [==============================] - 5s 11ms/step - loss: 0.4482 - accuracy: 0.8317 - val_loss: 0.4903 - val_accuracy: 0.8087\n",
            "Epoch 35/50\n",
            "453/453 [==============================] - 5s 11ms/step - loss: 0.4472 - accuracy: 0.8323 - val_loss: 0.4902 - val_accuracy: 0.8100\n",
            "Epoch 36/50\n",
            "453/453 [==============================] - 5s 11ms/step - loss: 0.4459 - accuracy: 0.8331 - val_loss: 0.4887 - val_accuracy: 0.8105\n",
            "Epoch 37/50\n",
            "453/453 [==============================] - 5s 11ms/step - loss: 0.4446 - accuracy: 0.8340 - val_loss: 0.4880 - val_accuracy: 0.8099\n",
            "Epoch 38/50\n",
            "453/453 [==============================] - 5s 11ms/step - loss: 0.4436 - accuracy: 0.8342 - val_loss: 0.4888 - val_accuracy: 0.8103\n",
            "Epoch 39/50\n",
            "453/453 [==============================] - 5s 11ms/step - loss: 0.4423 - accuracy: 0.8349 - val_loss: 0.4889 - val_accuracy: 0.8102\n",
            "Epoch 40/50\n",
            "453/453 [==============================] - 5s 11ms/step - loss: 0.4413 - accuracy: 0.8353 - val_loss: 0.4887 - val_accuracy: 0.8102\n",
            "Epoch 41/50\n",
            "453/453 [==============================] - 5s 11ms/step - loss: 0.4402 - accuracy: 0.8366 - val_loss: 0.4874 - val_accuracy: 0.8110\n",
            "Epoch 42/50\n",
            "453/453 [==============================] - 5s 11ms/step - loss: 0.4389 - accuracy: 0.8369 - val_loss: 0.4887 - val_accuracy: 0.8098\n",
            "Epoch 43/50\n",
            "453/453 [==============================] - 5s 11ms/step - loss: 0.4383 - accuracy: 0.8374 - val_loss: 0.4871 - val_accuracy: 0.8103\n",
            "Epoch 44/50\n",
            "453/453 [==============================] - 5s 11ms/step - loss: 0.4374 - accuracy: 0.8380 - val_loss: 0.4881 - val_accuracy: 0.8091\n",
            "Epoch 45/50\n",
            "453/453 [==============================] - 5s 11ms/step - loss: 0.4360 - accuracy: 0.8383 - val_loss: 0.4874 - val_accuracy: 0.8100\n",
            "Epoch 46/50\n",
            "453/453 [==============================] - 5s 11ms/step - loss: 0.4349 - accuracy: 0.8391 - val_loss: 0.4874 - val_accuracy: 0.8105\n",
            "Epoch 47/50\n",
            "453/453 [==============================] - 5s 11ms/step - loss: 0.4343 - accuracy: 0.8394 - val_loss: 0.4876 - val_accuracy: 0.8116\n",
            "Epoch 48/50\n",
            "453/453 [==============================] - 5s 11ms/step - loss: 0.4332 - accuracy: 0.8401 - val_loss: 0.4857 - val_accuracy: 0.8108\n",
            "Epoch 49/50\n",
            "453/453 [==============================] - 5s 11ms/step - loss: 0.4320 - accuracy: 0.8407 - val_loss: 0.4888 - val_accuracy: 0.8100\n",
            "Epoch 50/50\n",
            "453/453 [==============================] - 5s 11ms/step - loss: 0.4315 - accuracy: 0.8410 - val_loss: 0.4854 - val_accuracy: 0.8122\n",
            "Training is finished. Check the parameter settings again.\n",
            "[Data parameter settings]\n",
            "Using wh- words: True\n",
            "Using pretrained word2vec model: True\n",
            "Maximum length of questions: 20\n",
            "\n",
            "[Model parameter settings]\n",
            "Dimension of hidden layer: 50\n",
            "Initial value of bias: 2.0\n",
            "Optimizer: Adam\n",
            "Maximum length of questions: 20\n",
            "Batch size: 500\n",
            "Number of epochs: 50\n",
            "\n",
            "Training time: 50 epochs in       256.58\n",
            "\n"
          ],
          "name": "stdout"
        }
      ]
    },
    {
      "cell_type": "code",
      "metadata": {
        "id": "oV8HXtvlEwe7",
        "colab_type": "code",
        "outputId": "c49f85fa-9d57-4c09-ea36-5216a795917a",
        "colab": {
          "base_uri": "https://localhost:8080/",
          "height": 204
        }
      },
      "source": [
        "model.save('./hwmodel.h5')\n",
        "\n",
        "hist_df = pd.DataFrame(malstm_trained.history) \n",
        "\n",
        "# or save to csv: \n",
        "hist_csv_file = './history.csv'\n",
        "with open(hist_csv_file, mode='w') as f:\n",
        "    hist_df.to_csv(f)\n",
        "\n",
        "hist_df.head()"
      ],
      "execution_count": 0,
      "outputs": [
        {
          "output_type": "execute_result",
          "data": {
            "text/html": [
              "<div>\n",
              "<style scoped>\n",
              "    .dataframe tbody tr th:only-of-type {\n",
              "        vertical-align: middle;\n",
              "    }\n",
              "\n",
              "    .dataframe tbody tr th {\n",
              "        vertical-align: top;\n",
              "    }\n",
              "\n",
              "    .dataframe thead th {\n",
              "        text-align: right;\n",
              "    }\n",
              "</style>\n",
              "<table border=\"1\" class=\"dataframe\">\n",
              "  <thead>\n",
              "    <tr style=\"text-align: right;\">\n",
              "      <th></th>\n",
              "      <th>loss</th>\n",
              "      <th>accuracy</th>\n",
              "      <th>val_loss</th>\n",
              "      <th>val_accuracy</th>\n",
              "    </tr>\n",
              "  </thead>\n",
              "  <tbody>\n",
              "    <tr>\n",
              "      <th>0</th>\n",
              "      <td>0.622874</td>\n",
              "      <td>0.723251</td>\n",
              "      <td>0.586648</td>\n",
              "      <td>0.737831</td>\n",
              "    </tr>\n",
              "    <tr>\n",
              "      <th>1</th>\n",
              "      <td>0.566050</td>\n",
              "      <td>0.758118</td>\n",
              "      <td>0.561973</td>\n",
              "      <td>0.758732</td>\n",
              "    </tr>\n",
              "    <tr>\n",
              "      <th>2</th>\n",
              "      <td>0.548092</td>\n",
              "      <td>0.771617</td>\n",
              "      <td>0.549414</td>\n",
              "      <td>0.769686</td>\n",
              "    </tr>\n",
              "    <tr>\n",
              "      <th>3</th>\n",
              "      <td>0.536580</td>\n",
              "      <td>0.779810</td>\n",
              "      <td>0.544261</td>\n",
              "      <td>0.771170</td>\n",
              "    </tr>\n",
              "    <tr>\n",
              "      <th>4</th>\n",
              "      <td>0.527934</td>\n",
              "      <td>0.785552</td>\n",
              "      <td>0.541782</td>\n",
              "      <td>0.769969</td>\n",
              "    </tr>\n",
              "  </tbody>\n",
              "</table>\n",
              "</div>"
            ],
            "text/plain": [
              "       loss  accuracy  val_loss  val_accuracy\n",
              "0  0.622874  0.723251  0.586648      0.737831\n",
              "1  0.566050  0.758118  0.561973      0.758732\n",
              "2  0.548092  0.771617  0.549414      0.769686\n",
              "3  0.536580  0.779810  0.544261      0.771170\n",
              "4  0.527934  0.785552  0.541782      0.769969"
            ]
          },
          "metadata": {
            "tags": []
          },
          "execution_count": 114
        }
      ]
    },
    {
      "cell_type": "markdown",
      "metadata": {
        "id": "mvBsR4JHZ8Oa",
        "colab_type": "text"
      },
      "source": [
        "## Model Evaluation"
      ]
    },
    {
      "cell_type": "code",
      "metadata": {
        "id": "KWJO3VvwEEAz",
        "colab_type": "code",
        "colab": {}
      },
      "source": [
        "def my_eval(test1 , test2 , label = y_test):\n",
        "  y_pred = model.predict([test1,test2])\n",
        "  y_pred_class = (y_pred > 0.5).astype(np.int)\n",
        "  test_acc = accuracy_score(y_test, y_pred_class)\n",
        "  test_prf = precision_recall_fscore_support(y_test, y_pred_class, average = \"binary\")[:3]\n",
        "\n",
        "  test_result = list(test_prf)\n",
        "  test_result.append(test_acc)\n",
        "\n",
        "  test_df = pd.DataFrame(test_result).T\n",
        "  test_df.columns = [\"Precision\", \"Recall\", \"F1-score\", \"Accuracy\"]\n",
        "\n",
        "  return test_df"
      ],
      "execution_count": 0,
      "outputs": []
    },
    {
      "cell_type": "code",
      "metadata": {
        "id": "MYogyYN48cZx",
        "colab_type": "code",
        "outputId": "4494997c-2a0c-4cb9-acb2-e56fcb4f3016",
        "colab": {
          "base_uri": "https://localhost:8080/",
          "height": 117
        }
      },
      "source": [
        "model = tf.keras.models.load_model('./hwmodel.h5', custom_objects={'ManDist': ManDist})\n",
        "model.evaluate([q1_test, q2_test], y_test)\n",
        "my_eval(q1_test, q2_test) # epoch = 50"
      ],
      "execution_count": 0,
      "outputs": [
        {
          "output_type": "stream",
          "text": [
            "3791/3791 [==============================] - 17s 4ms/step - loss: 0.4882 - accuracy: 0.8113\n"
          ],
          "name": "stdout"
        },
        {
          "output_type": "execute_result",
          "data": {
            "text/html": [
              "<div>\n",
              "<style scoped>\n",
              "    .dataframe tbody tr th:only-of-type {\n",
              "        vertical-align: middle;\n",
              "    }\n",
              "\n",
              "    .dataframe tbody tr th {\n",
              "        vertical-align: top;\n",
              "    }\n",
              "\n",
              "    .dataframe thead th {\n",
              "        text-align: right;\n",
              "    }\n",
              "</style>\n",
              "<table border=\"1\" class=\"dataframe\">\n",
              "  <thead>\n",
              "    <tr style=\"text-align: right;\">\n",
              "      <th></th>\n",
              "      <th>Precision</th>\n",
              "      <th>Recall</th>\n",
              "      <th>F1-score</th>\n",
              "      <th>Accuracy</th>\n",
              "    </tr>\n",
              "  </thead>\n",
              "  <tbody>\n",
              "    <tr>\n",
              "      <th>0</th>\n",
              "      <td>0.777003</td>\n",
              "      <td>0.686218</td>\n",
              "      <td>0.728794</td>\n",
              "      <td>0.81133</td>\n",
              "    </tr>\n",
              "  </tbody>\n",
              "</table>\n",
              "</div>"
            ],
            "text/plain": [
              "   Precision    Recall  F1-score  Accuracy\n",
              "0   0.777003  0.686218  0.728794   0.81133"
            ]
          },
          "metadata": {
            "tags": []
          },
          "execution_count": 90
        }
      ]
    },
    {
      "cell_type": "code",
      "metadata": {
        "id": "uc2VSNp28nZj",
        "colab_type": "code",
        "outputId": "f7e88053-89c5-4c76-c9c3-b0debb9d229b",
        "colab": {
          "base_uri": "https://localhost:8080/",
          "height": 370
        }
      },
      "source": [
        "plt.figure(figsize = (15, 5))\n",
        "\n",
        "plt.suptitle(\"Result of MaLSTM (epoch = 50)\")\n",
        "# summarize history for accuracy\n",
        "plt.subplot(1, 2, 1)\n",
        "plt.plot(malstm_trained.history['accuracy'], c = \"#7864DF\", lw = 3)\n",
        "plt.plot(malstm_trained.history['val_accuracy'], c = \"#92D8A3\", lw = 3)\n",
        "plt.title('model accuracy')\n",
        "plt.ylabel('accuracy')\n",
        "plt.xlabel('epoch')\n",
        "plt.legend(['train', 'validation'], loc='upper left')\n",
        "\n",
        "# summarize history for loss\n",
        "plt.subplot(1, 2, 2)\n",
        "plt.plot(malstm_trained.history['loss'], c = \"#7864DF\", lw = 3)\n",
        "plt.plot(malstm_trained.history['val_loss'], c = \"#92D8A3\", lw = 3)\n",
        "plt.title('model loss')\n",
        "plt.ylabel('loss')\n",
        "plt.xlabel('epoch')\n",
        "plt.legend(['train', 'validation'], loc='upper left')\n",
        "plt.show()"
      ],
      "execution_count": 0,
      "outputs": [
        {
          "output_type": "display_data",
          "data": {
            "image/png": "[encoded data removed]",
            "text/plain": [
              "<Figure size 1080x360 with 2 Axes>"
            ]
          },
          "metadata": {
            "tags": [],
            "needs_background": "light"
          }
        }
      ]
    },
    {
      "cell_type": "markdown",
      "metadata": {
        "id": "rVKJfa9oeDFL",
        "colab_type": "text"
      },
      "source": [
        "## Compair Optimizer"
      ]
    },
    {
      "cell_type": "code",
      "metadata": {
        "id": "zwd7uHDneIA3",
        "colab_type": "code",
        "colab": {}
      },
      "source": [
        "opts=['Adadelta','Adam','SGD', 'Momemtum', \"RAdam\"]\n",
        "n_hidden = 50\n",
        "bias_init = 2.0\n",
        "batch_size = 500\n",
        "n_epoch = 50\n",
        "max_len = 20\n",
        "\n",
        "opt_res = pd.DataFrame()\n",
        "for i in range(len(opts)):\n",
        "  opt = opts[i]\n",
        "  print(\"Training by %s optimizer is Start!\" %opt)\n",
        "\n",
        "  # model\n",
        "  model=modeling(e12, n_hidden = n_hidden, bias_init = bias_init, opt = opt, max_len = max_len, summary = False)\n",
        "  malstm_trained = model.fit([q1_train2, q2_train2], y_train,\n",
        "                            batch_size=batch_size, epochs= n_epoch,\n",
        "                            validation_split = 0.2, verbose = 0)\n",
        "  \n",
        "  # eval\n",
        "  test_res = my_eval(q1_test2, q2_test2)\n",
        "  opt_res = pd.concat([opt_res, test_res])"
      ],
      "execution_count": 0,
      "outputs": []
    },
    {
      "cell_type": "code",
      "metadata": {
        "id": "Vwmf_KROsUlY",
        "colab_type": "code",
        "outputId": "be64e03d-1fa8-4303-bc48-2a9ae1f7d86c",
        "colab": {
          "base_uri": "https://localhost:8080/",
          "height": 204
        }
      },
      "source": [
        "opt_res #ver.hw"
      ],
      "execution_count": 0,
      "outputs": [
        {
          "output_type": "execute_result",
          "data": {
            "text/html": [
              "<div>\n",
              "<style scoped>\n",
              "    .dataframe tbody tr th:only-of-type {\n",
              "        vertical-align: middle;\n",
              "    }\n",
              "\n",
              "    .dataframe tbody tr th {\n",
              "        vertical-align: top;\n",
              "    }\n",
              "\n",
              "    .dataframe thead th {\n",
              "        text-align: right;\n",
              "    }\n",
              "</style>\n",
              "<table border=\"1\" class=\"dataframe\">\n",
              "  <thead>\n",
              "    <tr style=\"text-align: right;\">\n",
              "      <th></th>\n",
              "      <th>Precision</th>\n",
              "      <th>Recall</th>\n",
              "      <th>F1-score</th>\n",
              "      <th>Accuracy</th>\n",
              "      <th>Optimizer</th>\n",
              "    </tr>\n",
              "  </thead>\n",
              "  <tbody>\n",
              "    <tr>\n",
              "      <th>0</th>\n",
              "      <td>0.598976</td>\n",
              "      <td>0.446669</td>\n",
              "      <td>0.511730</td>\n",
              "      <td>0.685116</td>\n",
              "      <td>Adadelta</td>\n",
              "    </tr>\n",
              "    <tr>\n",
              "      <th>0</th>\n",
              "      <td>0.775501</td>\n",
              "      <td>0.696730</td>\n",
              "      <td>0.734008</td>\n",
              "      <td>0.813457</td>\n",
              "      <td>Adam</td>\n",
              "    </tr>\n",
              "    <tr>\n",
              "      <th>0</th>\n",
              "      <td>0.775094</td>\n",
              "      <td>0.696953</td>\n",
              "      <td>0.733950</td>\n",
              "      <td>0.813342</td>\n",
              "      <td>SGD</td>\n",
              "    </tr>\n",
              "    <tr>\n",
              "      <th>0</th>\n",
              "      <td>0.774026</td>\n",
              "      <td>0.692244</td>\n",
              "      <td>0.730854</td>\n",
              "      <td>0.811652</td>\n",
              "      <td>Momemtum</td>\n",
              "    </tr>\n",
              "    <tr>\n",
              "      <th>0</th>\n",
              "      <td>0.766019</td>\n",
              "      <td>0.705189</td>\n",
              "      <td>0.734347</td>\n",
              "      <td>0.811520</td>\n",
              "      <td>RAdam</td>\n",
              "    </tr>\n",
              "  </tbody>\n",
              "</table>\n",
              "</div>"
            ],
            "text/plain": [
              "   Precision    Recall  F1-score  Accuracy Optimizer\n",
              "0   0.598976  0.446669  0.511730  0.685116  Adadelta\n",
              "0   0.775501  0.696730  0.734008  0.813457      Adam\n",
              "0   0.775094  0.696953  0.733950  0.813342       SGD\n",
              "0   0.774026  0.692244  0.730854  0.811652  Momemtum\n",
              "0   0.766019  0.705189  0.734347  0.811520     RAdam"
            ]
          },
          "metadata": {
            "tags": []
          },
          "execution_count": 89
        }
      ]
    },
    {
      "cell_type": "code",
      "metadata": {
        "id": "0EnoJ9VTsX0C",
        "colab_type": "code",
        "colab": {}
      },
      "source": [
        "opt_res.to_csv(\"./hw_opt_res.csv\", index = False)"
      ],
      "execution_count": 0,
      "outputs": []
    },
    {
      "cell_type": "markdown",
      "metadata": {
        "id": "VDf2L2vETb7I",
        "colab_type": "text"
      },
      "source": [
        "# Other models"
      ]
    },
    {
      "cell_type": "markdown",
      "metadata": {
        "id": "VrEmbCjzij9K",
        "colab_type": "text"
      },
      "source": [
        "## 2 LSTM Models"
      ]
    },
    {
      "cell_type": "code",
      "metadata": {
        "id": "hSqIAQIKJLJv",
        "colab_type": "code",
        "colab": {}
      },
      "source": [
        "## LSTM 따로 한 모델\n",
        "\n",
        "def each_modeling(embedding_matrix, n_hidden, bias_init = 2.0, opt='Adam', max_len=20):\n",
        "\n",
        "  left_model=Sequential()\n",
        "  left_model.add(Embedding(embedding_matrix.shape[0], 300,\n",
        "        weights=[embedding_matrix],\n",
        "        input_length=max_len,\n",
        "        trainable=False))\n",
        "  left_model.add(LSTM(n_hidden,bias_initializer=initializers.Constant(bias_init)))\n",
        "\n",
        "  right_model=Sequential()\n",
        "  right_model.add(Embedding(embedding_matrix.shape[0], 300,\n",
        "        weights=[embedding_matrix],\n",
        "        input_length=max_len,\n",
        "        trainable=False))\n",
        "  right_model.add(LSTM(n_hidden,bias_initializer=initializers.Constant(bias_init)))\n",
        "\n",
        "\n",
        "  left_input = Input(shape=(max_len,), dtype='int32')\n",
        "  right_input = Input(shape=(max_len,), dtype='int32')\n",
        "\n",
        "  malstm_distance = ManDist()([left_model(left_input), right_model(right_input)])\n",
        "  model = Model(inputs=[left_input, right_input], outputs=[malstm_distance])\n",
        "  if opt=='Adadelta':\n",
        "    model.compile(loss='binary_crossentropy', optimizer=tf.keras.optimizers.Adadelta(), metrics=['accuracy'])  \n",
        "  elif 'Adam':\n",
        "    model.compile(loss='binary_crossentropy', optimizer=tf.keras.optimizers.Adam(), metrics=['accuracy'])\n",
        "  elif 'Momemtum':\n",
        "    model.compile(loss='binary_crossentropy', optimizer=tf.keras.optimizers.Momemtum(), metrics=['accuracy'])\n",
        "  elif 'SGD':\n",
        "    model.compile(loss='binary_crossentropy', optimizer=tf.keras.optimizers.SGD(), metrics=['accuracy'])\n",
        "  elif 'RAdam':\n",
        "    model.compile(loss='binary_crossentropy', optimizer=Radam(), metrics=['accuracy'])\n",
        "\n",
        "  model.summary()\n",
        "  return model\n"
      ],
      "execution_count": 0,
      "outputs": []
    },
    {
      "cell_type": "code",
      "metadata": {
        "id": "9zDFJ1jbKtEh",
        "colab_type": "code",
        "outputId": "ab0ca849-3b34-4851-d93d-b7618ddb3b73",
        "colab": {
          "base_uri": "https://localhost:8080/",
          "height": 442
        }
      },
      "source": [
        "n_hidden = 50\n",
        "opt = \"Adam\"\n",
        "bias_init = 2.0\n",
        "\n",
        "print(\"--------------Check your parameter setting---------------\")\n",
        "print(\"Dimmension of hidden layer: \", n_hidden )\n",
        "print(\"Initial value of biase:\", bias_init)\n",
        "print(\"Optimizer: \", opt)\n",
        "print(\"Maximum length of questions: \", max_len)\n",
        "print(\"---------------------------------------------------------\")\n",
        "\n",
        "model2 = each_modeling(e1, n_hidden = n_hidden, bias_init = bias_init, opt = opt, max_len = max_len)"
      ],
      "execution_count": 0,
      "outputs": [
        {
          "output_type": "stream",
          "text": [
            "--------------Check your parameter setting---------------\n",
            "Dimmension of hidden layer:  50\n",
            "Initial value of biase: 2.0\n",
            "Optimizer:  Adam\n",
            "Maximum length of questions:  20\n",
            "---------------------------------------------------------\n",
            "Model: \"model_1\"\n",
            "__________________________________________________________________________________________________\n",
            "Layer (type)                    Output Shape         Param #     Connected to                     \n",
            "==================================================================================================\n",
            "input_3 (InputLayer)            [(None, 20)]         0                                            \n",
            "__________________________________________________________________________________________________\n",
            "input_4 (InputLayer)            [(None, 20)]         0                                            \n",
            "__________________________________________________________________________________________________\n",
            "sequential_1 (Sequential)       (None, 50)           25315500    input_3[0][0]                    \n",
            "__________________________________________________________________________________________________\n",
            "sequential_2 (Sequential)       (None, 50)           25315500    input_4[0][0]                    \n",
            "__________________________________________________________________________________________________\n",
            "man_dist_1 (ManDist)            (None, 1)            0           sequential_1[1][0]               \n",
            "                                                                 sequential_2[1][0]               \n",
            "==================================================================================================\n",
            "Total params: 50,631,000\n",
            "Trainable params: 140,400\n",
            "Non-trainable params: 50,490,600\n",
            "__________________________________________________________________________________________________\n"
          ],
          "name": "stdout"
        }
      ]
    },
    {
      "cell_type": "code",
      "metadata": {
        "id": "8RCX641gK11S",
        "colab_type": "code",
        "outputId": "510f8455-d75b-48bf-c363-dacf81b0ab56",
        "colab": {
          "base_uri": "https://localhost:8080/",
          "height": 1000
        }
      },
      "source": [
        "batch_size = batch_sizes[0]\n",
        "n_epoch = 50\n",
        "\n",
        "print(\"--------------Check your parameter setting---------------\")\n",
        "print(\"Batch size:\", batch_size )\n",
        "print(\"Number of epoch:\", n_epoch)\n",
        "print(\"---------------------------------------------------------\")\n",
        "\n",
        "# model\n",
        "training_start_time = time()\n",
        "malstm_trained2 = model2.fit([q1_train, q2_train], y_train,\n",
        "                           batch_size=batch_size, epochs= n_epoch,\n",
        "                           validation_split = 0.2)\n",
        "training_end_time = time()\n",
        "print(\n",
        "\"\"\"Training is finished. Check the parameter settings again.\n",
        "[Data parameter settings]\n",
        "Using wh- words: %s\n",
        "Using pretrained word2vec model: %s\n",
        "Maximum length of questions: %d\n",
        "\n",
        "[Model parameter settings]\n",
        "Dimension of hidden layer: %d\n",
        "Initial value of bias: %.1f\n",
        "Optimizer: %s\n",
        "Maximum length of questions: %d\n",
        "Batch size: %d\n",
        "Number of epochs: %d\n",
        "\n",
        "Training time: %d epochs in %12.2f\n",
        "\"\"\"%\n",
        "(use_wh, pretrain, max_len, n_hidden, bias_init, opt, max_len, batch_size, n_epoch, n_epoch, training_end_time - training_start_time))"
      ],
      "execution_count": 0,
      "outputs": [
        {
          "output_type": "stream",
          "text": [
            "--------------Check your parameter setting---------------\n",
            "Batch size: 500\n",
            "Number of epoch: 50\n",
            "---------------------------------------------------------\n",
            "Epoch 1/50\n",
            "453/453 [==============================] - 11s 23ms/step - loss: 0.4173 - accuracy: 0.8086 - val_loss: 0.4972 - val_accuracy: 0.7673\n",
            "Epoch 2/50\n",
            "453/453 [==============================] - 11s 23ms/step - loss: 0.4162 - accuracy: 0.8088 - val_loss: 0.4941 - val_accuracy: 0.7694\n",
            "Epoch 3/50\n",
            "453/453 [==============================] - 10s 23ms/step - loss: 0.4147 - accuracy: 0.8103 - val_loss: 0.4951 - val_accuracy: 0.7688\n",
            "Epoch 4/50\n",
            "453/453 [==============================] - 10s 23ms/step - loss: 0.4139 - accuracy: 0.8109 - val_loss: 0.4965 - val_accuracy: 0.7683\n",
            "Epoch 5/50\n",
            "453/453 [==============================] - 11s 24ms/step - loss: 0.4135 - accuracy: 0.8109 - val_loss: 0.4934 - val_accuracy: 0.7690\n",
            "Epoch 6/50\n",
            "453/453 [==============================] - 10s 23ms/step - loss: 0.4117 - accuracy: 0.8112 - val_loss: 0.4936 - val_accuracy: 0.7696\n",
            "Epoch 7/50\n",
            "453/453 [==============================] - 10s 23ms/step - loss: 0.4105 - accuracy: 0.8124 - val_loss: 0.4943 - val_accuracy: 0.7687\n",
            "Epoch 8/50\n",
            "453/453 [==============================] - 10s 23ms/step - loss: 0.4094 - accuracy: 0.8126 - val_loss: 0.4943 - val_accuracy: 0.7699\n",
            "Epoch 9/50\n",
            "453/453 [==============================] - 10s 23ms/step - loss: 0.4084 - accuracy: 0.8133 - val_loss: 0.4962 - val_accuracy: 0.7669\n",
            "Epoch 10/50\n",
            "453/453 [==============================] - 10s 23ms/step - loss: 0.4077 - accuracy: 0.8139 - val_loss: 0.4942 - val_accuracy: 0.7697\n",
            "Epoch 11/50\n",
            "453/453 [==============================] - 10s 23ms/step - loss: 0.4070 - accuracy: 0.8144 - val_loss: 0.4930 - val_accuracy: 0.7707\n",
            "Epoch 12/50\n",
            "453/453 [==============================] - 10s 23ms/step - loss: 0.4056 - accuracy: 0.8152 - val_loss: 0.4956 - val_accuracy: 0.7696\n",
            "Epoch 13/50\n",
            "453/453 [==============================] - 10s 23ms/step - loss: 0.4048 - accuracy: 0.8159 - val_loss: 0.4931 - val_accuracy: 0.7707\n",
            "Epoch 14/50\n",
            "453/453 [==============================] - 10s 23ms/step - loss: 0.4033 - accuracy: 0.8162 - val_loss: 0.4957 - val_accuracy: 0.7703\n",
            "Epoch 15/50\n",
            "453/453 [==============================] - 10s 23ms/step - loss: 0.4027 - accuracy: 0.8171 - val_loss: 0.4936 - val_accuracy: 0.7700\n",
            "Epoch 16/50\n",
            "453/453 [==============================] - 10s 23ms/step - loss: 0.4016 - accuracy: 0.8170 - val_loss: 0.4954 - val_accuracy: 0.7696\n",
            "Epoch 17/50\n",
            "453/453 [==============================] - 10s 23ms/step - loss: 0.4011 - accuracy: 0.8177 - val_loss: 0.4941 - val_accuracy: 0.7695\n",
            "Epoch 18/50\n",
            "453/453 [==============================] - 10s 23ms/step - loss: 0.3997 - accuracy: 0.8185 - val_loss: 0.4949 - val_accuracy: 0.7716\n",
            "Epoch 19/50\n",
            "453/453 [==============================] - 10s 23ms/step - loss: 0.3990 - accuracy: 0.8193 - val_loss: 0.4945 - val_accuracy: 0.7716\n",
            "Epoch 20/50\n",
            "453/453 [==============================] - 10s 23ms/step - loss: 0.3995 - accuracy: 0.8189 - val_loss: 0.4942 - val_accuracy: 0.7709\n",
            "Epoch 21/50\n",
            "453/453 [==============================] - 11s 23ms/step - loss: 0.3974 - accuracy: 0.8196 - val_loss: 0.4937 - val_accuracy: 0.7713\n",
            "Epoch 22/50\n",
            "453/453 [==============================] - 10s 23ms/step - loss: 0.3966 - accuracy: 0.8200 - val_loss: 0.4937 - val_accuracy: 0.7720\n",
            "Epoch 23/50\n",
            "453/453 [==============================] - 10s 23ms/step - loss: 0.3954 - accuracy: 0.8208 - val_loss: 0.4969 - val_accuracy: 0.7708\n",
            "Epoch 24/50\n",
            "453/453 [==============================] - 10s 23ms/step - loss: 0.3945 - accuracy: 0.8214 - val_loss: 0.4937 - val_accuracy: 0.7715\n",
            "Epoch 25/50\n",
            "453/453 [==============================] - 10s 23ms/step - loss: 0.3939 - accuracy: 0.8221 - val_loss: 0.4962 - val_accuracy: 0.7712\n",
            "Epoch 26/50\n",
            "453/453 [==============================] - 10s 23ms/step - loss: 0.3929 - accuracy: 0.8231 - val_loss: 0.4963 - val_accuracy: 0.7705\n",
            "Epoch 27/50\n",
            "453/453 [==============================] - 10s 23ms/step - loss: 0.3921 - accuracy: 0.8226 - val_loss: 0.4943 - val_accuracy: 0.7714\n",
            "Epoch 28/50\n",
            "453/453 [==============================] - 10s 23ms/step - loss: 0.3910 - accuracy: 0.8234 - val_loss: 0.4944 - val_accuracy: 0.7715\n",
            "Epoch 29/50\n",
            "453/453 [==============================] - 10s 23ms/step - loss: 0.3907 - accuracy: 0.8230 - val_loss: 0.4963 - val_accuracy: 0.7727\n",
            "Epoch 30/50\n",
            "453/453 [==============================] - 10s 23ms/step - loss: 0.3898 - accuracy: 0.8241 - val_loss: 0.4960 - val_accuracy: 0.7715\n",
            "Epoch 31/50\n",
            "453/453 [==============================] - 10s 23ms/step - loss: 0.3893 - accuracy: 0.8244 - val_loss: 0.4922 - val_accuracy: 0.7721\n",
            "Epoch 32/50\n",
            "453/453 [==============================] - 10s 23ms/step - loss: 0.3899 - accuracy: 0.8238 - val_loss: 0.4956 - val_accuracy: 0.7716\n",
            "Epoch 33/50\n",
            "453/453 [==============================] - 11s 23ms/step - loss: 0.3885 - accuracy: 0.8244 - val_loss: 0.4947 - val_accuracy: 0.7709\n",
            "Epoch 34/50\n",
            "453/453 [==============================] - 11s 24ms/step - loss: 0.3867 - accuracy: 0.8259 - val_loss: 0.4954 - val_accuracy: 0.7720\n",
            "Epoch 35/50\n",
            "453/453 [==============================] - 11s 24ms/step - loss: 0.3858 - accuracy: 0.8261 - val_loss: 0.4931 - val_accuracy: 0.7715\n",
            "Epoch 36/50\n",
            "453/453 [==============================] - 10s 23ms/step - loss: 0.3858 - accuracy: 0.8267 - val_loss: 0.4966 - val_accuracy: 0.7713\n",
            "Epoch 37/50\n",
            "453/453 [==============================] - 10s 23ms/step - loss: 0.3845 - accuracy: 0.8270 - val_loss: 0.4947 - val_accuracy: 0.7722\n",
            "Epoch 38/50\n",
            "453/453 [==============================] - 10s 23ms/step - loss: 0.3837 - accuracy: 0.8280 - val_loss: 0.4946 - val_accuracy: 0.7711\n",
            "Epoch 39/50\n",
            "453/453 [==============================] - 10s 23ms/step - loss: 0.3830 - accuracy: 0.8279 - val_loss: 0.4982 - val_accuracy: 0.7713\n",
            "Epoch 40/50\n",
            "453/453 [==============================] - 10s 23ms/step - loss: 0.3819 - accuracy: 0.8283 - val_loss: 0.4953 - val_accuracy: 0.7717\n",
            "Epoch 41/50\n",
            "453/453 [==============================] - 10s 23ms/step - loss: 0.3817 - accuracy: 0.8288 - val_loss: 0.4960 - val_accuracy: 0.7705\n",
            "Epoch 42/50\n",
            "453/453 [==============================] - 10s 23ms/step - loss: 0.3820 - accuracy: 0.8286 - val_loss: 0.4961 - val_accuracy: 0.7733\n",
            "Epoch 43/50\n",
            "453/453 [==============================] - 10s 23ms/step - loss: 0.3807 - accuracy: 0.8288 - val_loss: 0.4974 - val_accuracy: 0.7718\n",
            "Epoch 44/50\n",
            "453/453 [==============================] - 10s 23ms/step - loss: 0.3794 - accuracy: 0.8300 - val_loss: 0.4970 - val_accuracy: 0.7716\n",
            "Epoch 45/50\n",
            "453/453 [==============================] - 10s 23ms/step - loss: 0.3783 - accuracy: 0.8315 - val_loss: 0.4971 - val_accuracy: 0.7722\n",
            "Epoch 46/50\n",
            "453/453 [==============================] - 10s 23ms/step - loss: 0.3779 - accuracy: 0.8312 - val_loss: 0.4987 - val_accuracy: 0.7699\n",
            "Epoch 47/50\n",
            "453/453 [==============================] - 10s 23ms/step - loss: 0.3772 - accuracy: 0.8310 - val_loss: 0.4985 - val_accuracy: 0.7722\n",
            "Epoch 48/50\n",
            "453/453 [==============================] - 10s 23ms/step - loss: 0.3770 - accuracy: 0.8313 - val_loss: 0.4956 - val_accuracy: 0.7715\n",
            "Epoch 49/50\n",
            "453/453 [==============================] - 10s 23ms/step - loss: 0.3766 - accuracy: 0.8318 - val_loss: 0.4977 - val_accuracy: 0.7717\n",
            "Epoch 50/50\n",
            "453/453 [==============================] - 10s 23ms/step - loss: 0.3753 - accuracy: 0.8320 - val_loss: 0.4959 - val_accuracy: 0.7721\n",
            "Training is finished. Check the parameter settings again.\n",
            "[Data parameter settings]\n",
            "Using wh- words: False\n",
            "Using pretrained word2vec model: True\n",
            "Maximum length of questions: 20\n",
            "\n",
            "[Model parameter settings]\n",
            "Dimension of hidden layer: 50\n",
            "Initial value of bias: 2.0\n",
            "Optimizer: Adam\n",
            "Maximum length of questions: 20\n",
            "Batch size: 500\n",
            "Number of epochs: 50\n",
            "\n",
            "Training time: 50 epochs in       522.32\n",
            "\n"
          ],
          "name": "stdout"
        }
      ]
    },
    {
      "cell_type": "code",
      "metadata": {
        "id": "iwmokZAJFxno",
        "colab_type": "code",
        "outputId": "0c7ea838-c667-463b-e5fc-aae0a7e8bd4c",
        "colab": {
          "base_uri": "https://localhost:8080/",
          "height": 204
        }
      },
      "source": [
        "model2.save('./hwmodel2.h5')\n",
        "\n",
        "hist_df2 = pd.DataFrame(malstm_trained2.history) \n",
        "\n",
        "# or save to csv: \n",
        "hist_csv_file2 = './history2.csv'\n",
        "with open(hist_csv_file2, mode='w') as f:\n",
        "    gs_hist_df2.to_csv(f)\n",
        "\n",
        "hist_df2.head()"
      ],
      "execution_count": 0,
      "outputs": [
        {
          "output_type": "execute_result",
          "data": {
            "text/html": [
              "<div>\n",
              "<style scoped>\n",
              "    .dataframe tbody tr th:only-of-type {\n",
              "        vertical-align: middle;\n",
              "    }\n",
              "\n",
              "    .dataframe tbody tr th {\n",
              "        vertical-align: top;\n",
              "    }\n",
              "\n",
              "    .dataframe thead th {\n",
              "        text-align: right;\n",
              "    }\n",
              "</style>\n",
              "<table border=\"1\" class=\"dataframe\">\n",
              "  <thead>\n",
              "    <tr style=\"text-align: right;\">\n",
              "      <th></th>\n",
              "      <th>loss</th>\n",
              "      <th>accuracy</th>\n",
              "      <th>val_loss</th>\n",
              "      <th>val_accuracy</th>\n",
              "    </tr>\n",
              "  </thead>\n",
              "  <tbody>\n",
              "    <tr>\n",
              "      <th>0</th>\n",
              "      <td>0.417319</td>\n",
              "      <td>0.808573</td>\n",
              "      <td>0.497200</td>\n",
              "      <td>0.767336</td>\n",
              "    </tr>\n",
              "    <tr>\n",
              "      <th>1</th>\n",
              "      <td>0.416202</td>\n",
              "      <td>0.808834</td>\n",
              "      <td>0.494080</td>\n",
              "      <td>0.769368</td>\n",
              "    </tr>\n",
              "    <tr>\n",
              "      <th>2</th>\n",
              "      <td>0.414727</td>\n",
              "      <td>0.810309</td>\n",
              "      <td>0.495080</td>\n",
              "      <td>0.768767</td>\n",
              "    </tr>\n",
              "    <tr>\n",
              "      <th>3</th>\n",
              "      <td>0.413914</td>\n",
              "      <td>0.810883</td>\n",
              "      <td>0.496512</td>\n",
              "      <td>0.768273</td>\n",
              "    </tr>\n",
              "    <tr>\n",
              "      <th>4</th>\n",
              "      <td>0.413472</td>\n",
              "      <td>0.810857</td>\n",
              "      <td>0.493366</td>\n",
              "      <td>0.768997</td>\n",
              "    </tr>\n",
              "  </tbody>\n",
              "</table>\n",
              "</div>"
            ],
            "text/plain": [
              "       loss  accuracy  val_loss  val_accuracy\n",
              "0  0.417319  0.808573  0.497200      0.767336\n",
              "1  0.416202  0.808834  0.494080      0.769368\n",
              "2  0.414727  0.810309  0.495080      0.768767\n",
              "3  0.413914  0.810883  0.496512      0.768273\n",
              "4  0.413472  0.810857  0.493366      0.768997"
            ]
          },
          "metadata": {
            "tags": []
          },
          "execution_count": 65
        }
      ]
    },
    {
      "cell_type": "code",
      "metadata": {
        "id": "5Ca0tQ9Ca1mJ",
        "colab_type": "code",
        "outputId": "b4b22b3c-0311-4bbf-a9a6-3733ee7d21da",
        "colab": {
          "base_uri": "https://localhost:8080/",
          "height": 117
        }
      },
      "source": [
        "model = tf.keras.models.load_model('./hwmodel2.h5', custom_objects={'ManDist': ManDist})\n",
        "model.evaluate([q1_test, q2_test], y_test)\n",
        "my_eval(q1_test, q2_test) # ver.hw"
      ],
      "execution_count": 0,
      "outputs": [
        {
          "output_type": "stream",
          "text": [
            "3791/3791 [==============================] - 17s 4ms/step - loss: 0.4554 - accuracy: 0.7859\n"
          ],
          "name": "stdout"
        },
        {
          "output_type": "execute_result",
          "data": {
            "text/html": [
              "<div>\n",
              "<style scoped>\n",
              "    .dataframe tbody tr th:only-of-type {\n",
              "        vertical-align: middle;\n",
              "    }\n",
              "\n",
              "    .dataframe tbody tr th {\n",
              "        vertical-align: top;\n",
              "    }\n",
              "\n",
              "    .dataframe thead th {\n",
              "        text-align: right;\n",
              "    }\n",
              "</style>\n",
              "<table border=\"1\" class=\"dataframe\">\n",
              "  <thead>\n",
              "    <tr style=\"text-align: right;\">\n",
              "      <th></th>\n",
              "      <th>Precision</th>\n",
              "      <th>Recall</th>\n",
              "      <th>F1-score</th>\n",
              "      <th>Accuracy</th>\n",
              "    </tr>\n",
              "  </thead>\n",
              "  <tbody>\n",
              "    <tr>\n",
              "      <th>0</th>\n",
              "      <td>0.750007</td>\n",
              "      <td>0.630555</td>\n",
              "      <td>0.685113</td>\n",
              "      <td>0.785878</td>\n",
              "    </tr>\n",
              "  </tbody>\n",
              "</table>\n",
              "</div>"
            ],
            "text/plain": [
              "   Precision    Recall  F1-score  Accuracy\n",
              "0   0.750007  0.630555  0.685113  0.785878"
            ]
          },
          "metadata": {
            "tags": []
          },
          "execution_count": 100
        }
      ]
    },
    {
      "cell_type": "code",
      "metadata": {
        "id": "IJQiFXzM9EJ8",
        "colab_type": "code",
        "outputId": "4f0baa34-a4f5-4bda-9c82-1963ac6a04fc",
        "colab": {
          "base_uri": "https://localhost:8080/",
          "height": 370
        }
      },
      "source": [
        "plt.figure(figsize = (15, 5))\n",
        "\n",
        "plt.suptitle(\"Result of 2 LSTM (epoch = 50)\")\n",
        "# summarize history for accuracy\n",
        "plt.subplot(1, 2, 1)\n",
        "plt.plot(malstm_trained2.history['accuracy'], c = \"#7864DF\", lw = 3)\n",
        "plt.plot(malstm_trained2.history['val_accuracy'], c = \"#92D8A3\", lw = 3)\n",
        "plt.title('model accuracy')\n",
        "plt.ylabel('accuracy')\n",
        "plt.xlabel('epoch')\n",
        "plt.legend(['train', 'validation'], loc='upper left')\n",
        "\n",
        "# summarize history for loss\n",
        "plt.subplot(1, 2, 2)\n",
        "plt.plot(malstm_trained2.history['loss'], c = \"#7864DF\", lw = 3)\n",
        "plt.plot(malstm_trained2.history['val_loss'], c = \"#92D8A3\", lw = 3)\n",
        "plt.title('model loss')\n",
        "plt.ylabel('loss')\n",
        "plt.xlabel('epoch')\n",
        "plt.legend(['train', 'validation'], loc='upper left')\n",
        "plt.show()"
      ],
      "execution_count": 0,
      "outputs": [
        {
          "output_type": "display_data",
          "data": {
            "image/png": "[encoded data removed]",
            "text/plain": [
              "<Figure size 1080x360 with 2 Axes>"
            ]
          },
          "metadata": {
            "tags": [],
            "needs_background": "light"
          }
        }
      ]
    },
    {
      "cell_type": "markdown",
      "metadata": {
        "id": "-NhaQQYjYkht",
        "colab_type": "text"
      },
      "source": [
        "## MaLSTM + DENSE"
      ]
    },
    {
      "cell_type": "code",
      "metadata": {
        "id": "zPduPqDTYp-5",
        "colab_type": "code",
        "colab": {}
      },
      "source": [
        "def dense_modeling(embedding_matrix, n_hidden, n_layer, n_dense, drop = False, bias_init = 2.0, opt='Adam', max_len=20, act = [\"relu\"], summary = True):\n",
        "  \n",
        "  x=Sequential()\n",
        "\n",
        "  x.add(Embedding(embedding_matrix.shape[0], 300,\n",
        "        weights=[embedding_matrix],\n",
        "        input_length=max_len,\n",
        "        trainable=False))\n",
        "\n",
        "  x.add(LSTM(n_hidden, \n",
        "             bias_initializer=initializers.Constant(bias_init)))\n",
        "  \n",
        "  for i in range(n_layer):\n",
        "    x.add(Dense(n_dense[i], activation=act[i]))\n",
        "    if drop :\n",
        "      x.add(Dropout(0.5))\n",
        "\n",
        "  shared_model=x\n",
        "\n",
        "  left_input = Input(shape=(max_len,), dtype='int32')\n",
        "  right_input = Input(shape=(max_len,), dtype='int32')\n",
        "\n",
        "  malstm_distance = ManDist()([shared_model(left_input), shared_model(right_input)])\n",
        "  model = Model(inputs=[left_input, right_input], outputs=[malstm_distance])\n",
        "  if opt=='Adadelta':\n",
        "    model.compile(loss='binary_crossentropy', optimizer=tf.keras.optimizers.Adadelta(), metrics=['accuracy'])  \n",
        "  elif 'Adam':\n",
        "    model.compile(loss='binary_crossentropy', optimizer=tf.keras.optimizers.Adam(), metrics=['accuracy'])\n",
        "  elif 'Momemtum':\n",
        "    model.compile(loss='binary_crossentropy', optimizer=tf.keras.optimizers.Momemtum(), metrics=['accuracy'])\n",
        "  elif 'SGD':\n",
        "    model.compile(loss='binary_crossentropy', optimizer=tf.keras.optimizers.SGD(), metrics=['accuracy'])\n",
        "  elif 'RAdam':\n",
        "    model.compile(loss='binary_crossentropy', optimizer=tf.keras.optimizers.RAdam(), metrics=['accuracy'])\n",
        "\n",
        "  if summary :\n",
        "    model.summary()\n",
        "  return model"
      ],
      "execution_count": 0,
      "outputs": []
    },
    {
      "cell_type": "code",
      "metadata": {
        "id": "rO3iV8fgDwim",
        "colab_type": "code",
        "outputId": "223f8c07-568b-4f2b-9e74-25b5add6d0d5",
        "colab": {
          "base_uri": "https://localhost:8080/",
          "height": 2077
        }
      },
      "source": [
        "d_model5 = dense_modeling(embedding_matrix = e1, n_hidden = 100, n_layer = 1, n_dense = [10], act = ['relu'])\n",
        "dense_lstm_trained3 = d_model5.fit([q1_train, q2_train], y_train,\n",
        "                          batch_size= 500, epochs= 50,\n",
        "                          validation_split = 0.2)\n",
        "d_model5.evaluate([q1_test, q2_test], y_test)"
      ],
      "execution_count": 0,
      "outputs": [
        {
          "output_type": "stream",
          "text": [
            "Model: \"model_36\"\n",
            "__________________________________________________________________________________________________\n",
            "Layer (type)                    Output Shape         Param #     Connected to                     \n",
            "==================================================================================================\n",
            "input_73 (InputLayer)           [(None, 20)]         0                                            \n",
            "__________________________________________________________________________________________________\n",
            "input_74 (InputLayer)           [(None, 20)]         0                                            \n",
            "__________________________________________________________________________________________________\n",
            "sequential_40 (Sequential)      (None, 10)           25406710    input_73[0][0]                   \n",
            "                                                                 input_74[0][0]                   \n",
            "__________________________________________________________________________________________________\n",
            "man_dist_36 (ManDist)           (None, 1)            0           sequential_40[1][0]              \n",
            "                                                                 sequential_40[2][0]              \n",
            "==================================================================================================\n",
            "Total params: 25,406,710\n",
            "Trainable params: 161,410\n",
            "Non-trainable params: 25,245,300\n",
            "__________________________________________________________________________________________________\n",
            "Epoch 1/50\n",
            "453/453 [==============================] - 8s 17ms/step - loss: 0.6672 - accuracy: 0.6979 - val_loss: 0.5915 - val_accuracy: 0.7392\n",
            "Epoch 2/50\n",
            "453/453 [==============================] - 7s 15ms/step - loss: 0.5720 - accuracy: 0.7539 - val_loss: 0.5680 - val_accuracy: 0.7550\n",
            "Epoch 3/50\n",
            "453/453 [==============================] - 7s 15ms/step - loss: 0.5471 - accuracy: 0.7713 - val_loss: 0.5467 - val_accuracy: 0.7721\n",
            "Epoch 4/50\n",
            "453/453 [==============================] - 7s 15ms/step - loss: 0.5291 - accuracy: 0.7839 - val_loss: 0.5380 - val_accuracy: 0.7781\n",
            "Epoch 5/50\n",
            "453/453 [==============================] - 7s 15ms/step - loss: 0.5177 - accuracy: 0.7914 - val_loss: 0.5277 - val_accuracy: 0.7849\n",
            "Epoch 6/50\n",
            "453/453 [==============================] - 7s 15ms/step - loss: 0.5069 - accuracy: 0.7981 - val_loss: 0.5217 - val_accuracy: 0.7885\n",
            "Epoch 7/50\n",
            "453/453 [==============================] - 7s 15ms/step - loss: 0.4979 - accuracy: 0.8039 - val_loss: 0.5179 - val_accuracy: 0.7918\n",
            "Epoch 8/50\n",
            "453/453 [==============================] - 7s 15ms/step - loss: 0.4900 - accuracy: 0.8100 - val_loss: 0.5117 - val_accuracy: 0.7945\n",
            "Epoch 9/50\n",
            "453/453 [==============================] - 7s 15ms/step - loss: 0.4827 - accuracy: 0.8150 - val_loss: 0.5073 - val_accuracy: 0.7982\n",
            "Epoch 10/50\n",
            "453/453 [==============================] - 7s 15ms/step - loss: 0.4755 - accuracy: 0.8194 - val_loss: 0.5059 - val_accuracy: 0.7978\n",
            "Epoch 11/50\n",
            "453/453 [==============================] - 7s 15ms/step - loss: 0.4697 - accuracy: 0.8230 - val_loss: 0.5006 - val_accuracy: 0.8029\n",
            "Epoch 12/50\n",
            "453/453 [==============================] - 7s 16ms/step - loss: 0.4632 - accuracy: 0.8274 - val_loss: 0.4982 - val_accuracy: 0.8050\n",
            "Epoch 13/50\n",
            "453/453 [==============================] - 7s 16ms/step - loss: 0.4573 - accuracy: 0.8305 - val_loss: 0.4948 - val_accuracy: 0.8059\n",
            "Epoch 14/50\n",
            "453/453 [==============================] - 7s 15ms/step - loss: 0.4519 - accuracy: 0.8339 - val_loss: 0.4932 - val_accuracy: 0.8061\n",
            "Epoch 15/50\n",
            "453/453 [==============================] - 7s 15ms/step - loss: 0.4466 - accuracy: 0.8371 - val_loss: 0.4960 - val_accuracy: 0.8047\n",
            "Epoch 16/50\n",
            "453/453 [==============================] - 7s 15ms/step - loss: 0.4419 - accuracy: 0.8398 - val_loss: 0.4914 - val_accuracy: 0.8080\n",
            "Epoch 17/50\n",
            "453/453 [==============================] - 7s 15ms/step - loss: 0.4367 - accuracy: 0.8432 - val_loss: 0.4898 - val_accuracy: 0.8091\n",
            "Epoch 18/50\n",
            "453/453 [==============================] - 7s 15ms/step - loss: 0.4318 - accuracy: 0.8464 - val_loss: 0.4869 - val_accuracy: 0.8115\n",
            "Epoch 19/50\n",
            "453/453 [==============================] - 7s 15ms/step - loss: 0.4275 - accuracy: 0.8494 - val_loss: 0.4850 - val_accuracy: 0.8131\n",
            "Epoch 20/50\n",
            "453/453 [==============================] - 7s 15ms/step - loss: 0.4229 - accuracy: 0.8519 - val_loss: 0.4860 - val_accuracy: 0.8120\n",
            "Epoch 21/50\n",
            "453/453 [==============================] - 7s 15ms/step - loss: 0.4190 - accuracy: 0.8541 - val_loss: 0.4833 - val_accuracy: 0.8139\n",
            "Epoch 22/50\n",
            "453/453 [==============================] - 7s 15ms/step - loss: 0.4143 - accuracy: 0.8573 - val_loss: 0.4851 - val_accuracy: 0.8114\n",
            "Epoch 23/50\n",
            "453/453 [==============================] - 7s 15ms/step - loss: 0.4107 - accuracy: 0.8599 - val_loss: 0.4854 - val_accuracy: 0.8093\n",
            "Epoch 24/50\n",
            "453/453 [==============================] - 7s 15ms/step - loss: 0.4065 - accuracy: 0.8625 - val_loss: 0.4826 - val_accuracy: 0.8139\n",
            "Epoch 25/50\n",
            "453/453 [==============================] - 7s 15ms/step - loss: 0.4027 - accuracy: 0.8640 - val_loss: 0.4809 - val_accuracy: 0.8163\n",
            "Epoch 26/50\n",
            "453/453 [==============================] - 7s 15ms/step - loss: 0.3993 - accuracy: 0.8670 - val_loss: 0.4824 - val_accuracy: 0.8157\n",
            "Epoch 27/50\n",
            "453/453 [==============================] - 7s 15ms/step - loss: 0.3959 - accuracy: 0.8686 - val_loss: 0.4803 - val_accuracy: 0.8155\n",
            "Epoch 28/50\n",
            "453/453 [==============================] - 7s 15ms/step - loss: 0.3919 - accuracy: 0.8713 - val_loss: 0.4778 - val_accuracy: 0.8185\n",
            "Epoch 29/50\n",
            "453/453 [==============================] - 7s 15ms/step - loss: 0.3883 - accuracy: 0.8735 - val_loss: 0.4817 - val_accuracy: 0.8168\n",
            "Epoch 30/50\n",
            "453/453 [==============================] - 7s 15ms/step - loss: 0.3848 - accuracy: 0.8757 - val_loss: 0.4792 - val_accuracy: 0.8177\n",
            "Epoch 31/50\n",
            "453/453 [==============================] - 7s 15ms/step - loss: 0.3814 - accuracy: 0.8778 - val_loss: 0.4786 - val_accuracy: 0.8190\n",
            "Epoch 32/50\n",
            "453/453 [==============================] - 7s 15ms/step - loss: 0.3784 - accuracy: 0.8792 - val_loss: 0.4841 - val_accuracy: 0.8172\n",
            "Epoch 33/50\n",
            "453/453 [==============================] - 7s 15ms/step - loss: 0.3745 - accuracy: 0.8822 - val_loss: 0.4799 - val_accuracy: 0.8184\n",
            "Epoch 34/50\n",
            "453/453 [==============================] - 7s 15ms/step - loss: 0.3715 - accuracy: 0.8838 - val_loss: 0.4793 - val_accuracy: 0.8196\n",
            "Epoch 35/50\n",
            "453/453 [==============================] - 7s 15ms/step - loss: 0.3682 - accuracy: 0.8859 - val_loss: 0.4794 - val_accuracy: 0.8186\n",
            "Epoch 36/50\n",
            "453/453 [==============================] - 7s 15ms/step - loss: 0.3661 - accuracy: 0.8868 - val_loss: 0.4801 - val_accuracy: 0.8178\n",
            "Epoch 37/50\n",
            "453/453 [==============================] - 7s 15ms/step - loss: 0.3621 - accuracy: 0.8887 - val_loss: 0.4818 - val_accuracy: 0.8182\n",
            "Epoch 38/50\n",
            "453/453 [==============================] - 7s 15ms/step - loss: 0.3588 - accuracy: 0.8906 - val_loss: 0.4827 - val_accuracy: 0.8185\n",
            "Epoch 39/50\n",
            "453/453 [==============================] - 7s 15ms/step - loss: 0.3557 - accuracy: 0.8923 - val_loss: 0.4822 - val_accuracy: 0.8195\n",
            "Epoch 40/50\n",
            "453/453 [==============================] - 7s 15ms/step - loss: 0.3524 - accuracy: 0.8941 - val_loss: 0.4804 - val_accuracy: 0.8193\n",
            "Epoch 41/50\n",
            "453/453 [==============================] - 7s 15ms/step - loss: 0.3497 - accuracy: 0.8957 - val_loss: 0.4875 - val_accuracy: 0.8182\n",
            "Epoch 42/50\n",
            "453/453 [==============================] - 7s 15ms/step - loss: 0.3470 - accuracy: 0.8973 - val_loss: 0.4832 - val_accuracy: 0.8198\n",
            "Epoch 43/50\n",
            "453/453 [==============================] - 7s 15ms/step - loss: 0.3437 - accuracy: 0.8997 - val_loss: 0.4814 - val_accuracy: 0.8221\n",
            "Epoch 44/50\n",
            "453/453 [==============================] - 7s 15ms/step - loss: 0.3408 - accuracy: 0.9010 - val_loss: 0.4865 - val_accuracy: 0.8194\n",
            "Epoch 45/50\n",
            "453/453 [==============================] - 7s 15ms/step - loss: 0.3386 - accuracy: 0.9025 - val_loss: 0.4859 - val_accuracy: 0.8192\n",
            "Epoch 46/50\n",
            "453/453 [==============================] - 7s 15ms/step - loss: 0.3360 - accuracy: 0.9041 - val_loss: 0.4813 - val_accuracy: 0.8212\n",
            "Epoch 47/50\n",
            "453/453 [==============================] - 7s 15ms/step - loss: 0.3328 - accuracy: 0.9059 - val_loss: 0.4802 - val_accuracy: 0.8209\n",
            "Epoch 48/50\n",
            "453/453 [==============================] - 7s 15ms/step - loss: 0.3304 - accuracy: 0.9074 - val_loss: 0.4926 - val_accuracy: 0.8191\n",
            "Epoch 49/50\n",
            "453/453 [==============================] - 7s 15ms/step - loss: 0.3284 - accuracy: 0.9091 - val_loss: 0.4841 - val_accuracy: 0.8219\n",
            "Epoch 50/50\n",
            "453/453 [==============================] - 7s 15ms/step - loss: 0.3261 - accuracy: 0.9095 - val_loss: 0.4877 - val_accuracy: 0.8211\n",
            "3791/3791 [==============================] - 17s 4ms/step - loss: 0.4869 - accuracy: 0.8227\n"
          ],
          "name": "stdout"
        },
        {
          "output_type": "execute_result",
          "data": {
            "text/plain": [
              "[0.4869118332862854, 0.8227165341377258]"
            ]
          },
          "metadata": {
            "tags": []
          },
          "execution_count": 86
        }
      ]
    },
    {
      "cell_type": "code",
      "metadata": {
        "id": "yVfRcGVNMXbD",
        "colab_type": "code",
        "outputId": "a416f80b-059f-45c8-c98d-594b5cdac4aa",
        "colab": {
          "base_uri": "https://localhost:8080/",
          "height": 80
        }
      },
      "source": [
        "model = d_model5\n",
        "my_eval(q1_test, q2_test)"
      ],
      "execution_count": 0,
      "outputs": [
        {
          "output_type": "execute_result",
          "data": {
            "text/html": [
              "<div>\n",
              "<style scoped>\n",
              "    .dataframe tbody tr th:only-of-type {\n",
              "        vertical-align: middle;\n",
              "    }\n",
              "\n",
              "    .dataframe tbody tr th {\n",
              "        vertical-align: top;\n",
              "    }\n",
              "\n",
              "    .dataframe thead th {\n",
              "        text-align: right;\n",
              "    }\n",
              "</style>\n",
              "<table border=\"1\" class=\"dataframe\">\n",
              "  <thead>\n",
              "    <tr style=\"text-align: right;\">\n",
              "      <th></th>\n",
              "      <th>Precision</th>\n",
              "      <th>Recall</th>\n",
              "      <th>F1-score</th>\n",
              "      <th>Accuracy</th>\n",
              "    </tr>\n",
              "  </thead>\n",
              "  <tbody>\n",
              "    <tr>\n",
              "      <th>0</th>\n",
              "      <td>0.811729</td>\n",
              "      <td>0.677157</td>\n",
              "      <td>0.738361</td>\n",
              "      <td>0.822717</td>\n",
              "    </tr>\n",
              "  </tbody>\n",
              "</table>\n",
              "</div>"
            ],
            "text/plain": [
              "   Precision    Recall  F1-score  Accuracy\n",
              "0   0.811729  0.677157  0.738361  0.822717"
            ]
          },
          "metadata": {
            "tags": []
          },
          "execution_count": 96
        }
      ]
    },
    {
      "cell_type": "code",
      "metadata": {
        "id": "FfBE7AMAZfoE",
        "colab_type": "code",
        "outputId": "fb70cc95-0431-45a1-c904-d23897a7f21e",
        "colab": {
          "base_uri": "https://localhost:8080/",
          "height": 204
        }
      },
      "source": [
        "d_model5.save('./hwmodel_d10.h5')\n",
        "\n",
        "hist_df = pd.DataFrame(dense_lstm_trained3.history) \n",
        "\n",
        "# or save to csv: \n",
        "hist_csv_file = './history_d10.csv'\n",
        "with open(hist_csv_file, mode='w') as f:\n",
        "    hist_df.to_csv(f)\n",
        "\n",
        "hist_df.head()"
      ],
      "execution_count": 0,
      "outputs": [
        {
          "output_type": "execute_result",
          "data": {
            "text/html": [
              "<div>\n",
              "<style scoped>\n",
              "    .dataframe tbody tr th:only-of-type {\n",
              "        vertical-align: middle;\n",
              "    }\n",
              "\n",
              "    .dataframe tbody tr th {\n",
              "        vertical-align: top;\n",
              "    }\n",
              "\n",
              "    .dataframe thead th {\n",
              "        text-align: right;\n",
              "    }\n",
              "</style>\n",
              "<table border=\"1\" class=\"dataframe\">\n",
              "  <thead>\n",
              "    <tr style=\"text-align: right;\">\n",
              "      <th></th>\n",
              "      <th>loss</th>\n",
              "      <th>accuracy</th>\n",
              "      <th>val_loss</th>\n",
              "      <th>val_accuracy</th>\n",
              "    </tr>\n",
              "  </thead>\n",
              "  <tbody>\n",
              "    <tr>\n",
              "      <th>0</th>\n",
              "      <td>0.667180</td>\n",
              "      <td>0.697871</td>\n",
              "      <td>0.591512</td>\n",
              "      <td>0.739210</td>\n",
              "    </tr>\n",
              "    <tr>\n",
              "      <th>1</th>\n",
              "      <td>0.571965</td>\n",
              "      <td>0.753922</td>\n",
              "      <td>0.567961</td>\n",
              "      <td>0.755040</td>\n",
              "    </tr>\n",
              "    <tr>\n",
              "      <th>2</th>\n",
              "      <td>0.547067</td>\n",
              "      <td>0.771290</td>\n",
              "      <td>0.546688</td>\n",
              "      <td>0.772142</td>\n",
              "    </tr>\n",
              "    <tr>\n",
              "      <th>3</th>\n",
              "      <td>0.529149</td>\n",
              "      <td>0.783891</td>\n",
              "      <td>0.538035</td>\n",
              "      <td>0.778131</td>\n",
              "    </tr>\n",
              "    <tr>\n",
              "      <th>4</th>\n",
              "      <td>0.517686</td>\n",
              "      <td>0.791391</td>\n",
              "      <td>0.527693</td>\n",
              "      <td>0.784898</td>\n",
              "    </tr>\n",
              "  </tbody>\n",
              "</table>\n",
              "</div>"
            ],
            "text/plain": [
              "       loss  accuracy  val_loss  val_accuracy\n",
              "0  0.667180  0.697871  0.591512      0.739210\n",
              "1  0.571965  0.753922  0.567961      0.755040\n",
              "2  0.547067  0.771290  0.546688      0.772142\n",
              "3  0.529149  0.783891  0.538035      0.778131\n",
              "4  0.517686  0.791391  0.527693      0.784898"
            ]
          },
          "metadata": {
            "tags": []
          },
          "execution_count": 101
        }
      ]
    },
    {
      "cell_type": "code",
      "metadata": {
        "id": "ZJ_RHWaQMtgj",
        "colab_type": "code",
        "outputId": "73d77d27-811b-4bc8-a37c-9b9eda423873",
        "colab": {
          "base_uri": "https://localhost:8080/",
          "height": 315
        }
      },
      "source": [
        "plt.figure(figsize = (15, 5))\n",
        "\n",
        "plt.suptitle(\"Result of MaLSTM (hidden = 100) with Dense layer (dim = 10)\")\n",
        "# summarize history for accuracy\n",
        "plt.subplot(1, 2, 1)\n",
        "plt.plot(dense_lstm_trained3.history['accuracy'], c = \"#7864DF\", lw = 3)\n",
        "plt.plot(dense_lstm_trained3.history['val_accuracy'], c = \"#92D8A3\", lw = 3)\n",
        "plt.title('model accuracy')\n",
        "plt.ylabel('accuracy')\n",
        "plt.xlabel('epoch')\n",
        "plt.legend(['train', 'validation'], loc='upper left')\n",
        "\n",
        "# summarize history for loss\n",
        "plt.subplot(1, 2, 2)\n",
        "plt.plot(dense_lstm_trained3.history['loss'], c = \"#7864DF\", lw = 3)\n",
        "plt.plot(dense_lstm_trained3.history['val_loss'], c = \"#92D8A3\", lw = 3)\n",
        "plt.title('model loss')\n",
        "plt.ylabel('loss')\n",
        "plt.xlabel('epoch')\n",
        "plt.legend(['train', 'validation'], loc='upper left')\n",
        "plt.show()"
      ],
      "execution_count": 0,
      "outputs": [
        {
          "output_type": "display_data",
          "data": {
            "image/png": "[encoded data removed]",
            "text/plain": [
              "<Figure size 1080x360 with 2 Axes>"
            ]
          },
          "metadata": {
            "tags": [],
            "needs_background": "light"
          }
        }
      ]
    }
  ]
}